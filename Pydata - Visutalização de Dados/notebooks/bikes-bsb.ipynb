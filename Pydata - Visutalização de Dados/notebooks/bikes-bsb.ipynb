{
 "cells": [
  {
   "cell_type": "code",
   "execution_count": 23,
   "metadata": {},
   "outputs": [],
   "source": [
    "import pandas as pd\n",
    "import datetime\n",
    "from datetime import timedelta\n",
    "import numpy as np"
   ]
  },
  {
   "cell_type": "code",
   "execution_count": 24,
   "metadata": {},
   "outputs": [],
   "source": [
    "bikes = pd.read_excel(\"../data/raw/dados-bsb-bike-agosto.xlsx\")"
   ]
  },
  {
   "cell_type": "code",
   "execution_count": 25,
   "metadata": {},
   "outputs": [
    {
     "data": {
      "text/html": [
       "<div>\n",
       "<style scoped>\n",
       "    .dataframe tbody tr th:only-of-type {\n",
       "        vertical-align: middle;\n",
       "    }\n",
       "\n",
       "    .dataframe tbody tr th {\n",
       "        vertical-align: top;\n",
       "    }\n",
       "\n",
       "    .dataframe thead th {\n",
       "        text-align: right;\n",
       "    }\n",
       "</style>\n",
       "<table border=\"1\" class=\"dataframe\">\n",
       "  <thead>\n",
       "    <tr style=\"text-align: right;\">\n",
       "      <th></th>\n",
       "      <th>Gênero do usuário</th>\n",
       "      <th>data nascimento</th>\n",
       "      <th>Cidade / Região Administrativa onde habita</th>\n",
       "      <th>Idade</th>\n",
       "      <th>Data</th>\n",
       "      <th>Horário de retirada</th>\n",
       "      <th>Horário de devolução</th>\n",
       "      <th>tempo de viagem</th>\n",
       "      <th>Estação de origem</th>\n",
       "      <th>% de retiradas/estação</th>\n",
       "      <th>Estação de Destino</th>\n",
       "      <th>% de devoluções/estação</th>\n",
       "    </tr>\n",
       "  </thead>\n",
       "  <tbody>\n",
       "    <tr>\n",
       "      <th>0</th>\n",
       "      <td>M</td>\n",
       "      <td>29/03/1980 00:00:00</td>\n",
       "      <td>NaN</td>\n",
       "      <td>38</td>\n",
       "      <td>2018-08-01</td>\n",
       "      <td>05:34:25</td>\n",
       "      <td>05:42:49</td>\n",
       "      <td>00:08:24</td>\n",
       "      <td>11 - Rodoviária 2</td>\n",
       "      <td>0.044207</td>\n",
       "      <td>28 - CNMP - Conselho Nacional do Ministério Pú...</td>\n",
       "      <td>0.008516</td>\n",
       "    </tr>\n",
       "    <tr>\n",
       "      <th>1</th>\n",
       "      <td>M</td>\n",
       "      <td>1992-06-07 00:00:00</td>\n",
       "      <td>NaN</td>\n",
       "      <td>26</td>\n",
       "      <td>2018-08-01</td>\n",
       "      <td>05:39:51</td>\n",
       "      <td>05:44:13</td>\n",
       "      <td>00:04:22</td>\n",
       "      <td>6 - Rodoviária</td>\n",
       "      <td>0.047566</td>\n",
       "      <td>10 - Ministério dos Transportes</td>\n",
       "      <td>0.015021</td>\n",
       "    </tr>\n",
       "    <tr>\n",
       "      <th>2</th>\n",
       "      <td>M</td>\n",
       "      <td>17/02/1975 00:00:00</td>\n",
       "      <td>NaN</td>\n",
       "      <td>43</td>\n",
       "      <td>2018-08-01</td>\n",
       "      <td>05:48:09</td>\n",
       "      <td>05:56:35</td>\n",
       "      <td>00:08:26</td>\n",
       "      <td>11 - Rodoviária 2</td>\n",
       "      <td>0.044207</td>\n",
       "      <td>23 - STF</td>\n",
       "      <td>0.016733</td>\n",
       "    </tr>\n",
       "    <tr>\n",
       "      <th>3</th>\n",
       "      <td>M</td>\n",
       "      <td>1994-08-07 00:00:00</td>\n",
       "      <td>NaN</td>\n",
       "      <td>23</td>\n",
       "      <td>2018-08-01</td>\n",
       "      <td>05:49:58</td>\n",
       "      <td>06:12:44</td>\n",
       "      <td>00:22:46</td>\n",
       "      <td>11 - Rodoviária 2</td>\n",
       "      <td>0.044207</td>\n",
       "      <td>8 - Ministério da Defesa</td>\n",
       "      <td>0.011319</td>\n",
       "    </tr>\n",
       "    <tr>\n",
       "      <th>4</th>\n",
       "      <td>F</td>\n",
       "      <td>29/08/1973 00:00:00</td>\n",
       "      <td>NaN</td>\n",
       "      <td>44</td>\n",
       "      <td>2018-08-01</td>\n",
       "      <td>05:57:37</td>\n",
       "      <td>06:16:22</td>\n",
       "      <td>00:18:45</td>\n",
       "      <td>6 - Rodoviária</td>\n",
       "      <td>0.047566</td>\n",
       "      <td>43 - Biblioteca Central</td>\n",
       "      <td>0.018444</td>\n",
       "    </tr>\n",
       "  </tbody>\n",
       "</table>\n",
       "</div>"
      ],
      "text/plain": [
       "  Gênero do usuário      data nascimento  \\\n",
       "0                 M  29/03/1980 00:00:00   \n",
       "1                 M  1992-06-07 00:00:00   \n",
       "2                 M  17/02/1975 00:00:00   \n",
       "3                 M  1994-08-07 00:00:00   \n",
       "4                 F  29/08/1973 00:00:00   \n",
       "\n",
       "  Cidade / Região Administrativa onde habita  Idade       Data  \\\n",
       "0                                        NaN     38 2018-08-01   \n",
       "1                                        NaN     26 2018-08-01   \n",
       "2                                        NaN     43 2018-08-01   \n",
       "3                                        NaN     23 2018-08-01   \n",
       "4                                        NaN     44 2018-08-01   \n",
       "\n",
       "  Horário de retirada Horário de devolução tempo de viagem  Estação de origem  \\\n",
       "0            05:34:25             05:42:49        00:08:24  11 - Rodoviária 2   \n",
       "1            05:39:51             05:44:13        00:04:22     6 - Rodoviária   \n",
       "2            05:48:09             05:56:35        00:08:26  11 - Rodoviária 2   \n",
       "3            05:49:58             06:12:44        00:22:46  11 - Rodoviária 2   \n",
       "4            05:57:37             06:16:22        00:18:45     6 - Rodoviária   \n",
       "\n",
       "   % de retiradas/estação                                 Estação de Destino  \\\n",
       "0                0.044207  28 - CNMP - Conselho Nacional do Ministério Pú...   \n",
       "1                0.047566                    10 - Ministério dos Transportes   \n",
       "2                0.044207                                           23 - STF   \n",
       "3                0.044207                           8 - Ministério da Defesa   \n",
       "4                0.047566                            43 - Biblioteca Central   \n",
       "\n",
       "   % de devoluções/estação  \n",
       "0                 0.008516  \n",
       "1                 0.015021  \n",
       "2                 0.016733  \n",
       "3                 0.011319  \n",
       "4                 0.018444  "
      ]
     },
     "execution_count": 25,
     "metadata": {},
     "output_type": "execute_result"
    }
   ],
   "source": [
    "bikes.head()"
   ]
  },
  {
   "cell_type": "code",
   "execution_count": 26,
   "metadata": {},
   "outputs": [],
   "source": [
    "#define 6 intervalos entre 0 e 90 anos\n",
    "buckets = np.linspace(0, 90, 6)"
   ]
  },
  {
   "cell_type": "code",
   "execution_count": 27,
   "metadata": {},
   "outputs": [],
   "source": [
    "bikes['faixa_etaria'] = pd.cut(bikes['Idade'], buckets)"
   ]
  },
  {
   "cell_type": "code",
   "execution_count": 28,
   "metadata": {},
   "outputs": [
    {
     "data": {
      "text/plain": [
       "Gênero do usuário                                     object\n",
       "data nascimento                                       object\n",
       "Cidade / Região Administrativa onde habita            object\n",
       "Idade                                                  int64\n",
       "Data                                          datetime64[ns]\n",
       "Horário de retirada                                   object\n",
       "Horário de devolução                                  object\n",
       "tempo de viagem                                       object\n",
       "Estação de origem                                     object\n",
       "% de retiradas/estação                               float64\n",
       "Estação de Destino                                    object\n",
       "% de devoluções/estação                              float64\n",
       "faixa_etaria                                        category\n",
       "dtype: object"
      ]
     },
     "execution_count": 28,
     "metadata": {},
     "output_type": "execute_result"
    }
   ],
   "source": [
    "bikes.dtypes"
   ]
  },
  {
   "cell_type": "code",
   "execution_count": 29,
   "metadata": {},
   "outputs": [],
   "source": [
    "def transform_into_seconds(tempo_viagem: str) -> float:\n",
    "    \"\"\"\n",
    "    Função que será utilizada para converter um tempo total de viagem (string) em segundos.\n",
    "    \"\"\"\n",
    "    #transforma em datetime\n",
    "    try:\n",
    "        step_1 = datetime.datetime.strptime(tempo_viagem, '%H:%M:%S').time()\n",
    "    except ValueError:\n",
    "        step_1 = datetime.datetime.strptime(\"00:00:00\", '%H:%M:%S').time()\n",
    "    #converte em timedelta\n",
    "    step_2 = timedelta(minutes=step_1.minute, seconds=step_1.second)\n",
    "    return step_2.total_seconds()"
   ]
  },
  {
   "cell_type": "code",
   "execution_count": 30,
   "metadata": {},
   "outputs": [],
   "source": [
    "bikes['tempo de viagem'] = bikes['tempo de viagem'].astype(str)"
   ]
  },
  {
   "cell_type": "code",
   "execution_count": 31,
   "metadata": {},
   "outputs": [],
   "source": [
    "bikes['tempo de viagem'] = bikes['tempo de viagem'].apply(lambda x: transform_into_seconds(x))"
   ]
  },
  {
   "cell_type": "code",
   "execution_count": 32,
   "metadata": {},
   "outputs": [
    {
     "data": {
      "text/html": [
       "<div>\n",
       "<style scoped>\n",
       "    .dataframe tbody tr th:only-of-type {\n",
       "        vertical-align: middle;\n",
       "    }\n",
       "\n",
       "    .dataframe tbody tr th {\n",
       "        vertical-align: top;\n",
       "    }\n",
       "\n",
       "    .dataframe thead th {\n",
       "        text-align: right;\n",
       "    }\n",
       "</style>\n",
       "<table border=\"1\" class=\"dataframe\">\n",
       "  <thead>\n",
       "    <tr style=\"text-align: right;\">\n",
       "      <th></th>\n",
       "      <th>Gênero do usuário</th>\n",
       "      <th>data nascimento</th>\n",
       "      <th>Cidade / Região Administrativa onde habita</th>\n",
       "      <th>Idade</th>\n",
       "      <th>Data</th>\n",
       "      <th>Horário de retirada</th>\n",
       "      <th>Horário de devolução</th>\n",
       "      <th>tempo de viagem</th>\n",
       "      <th>Estação de origem</th>\n",
       "      <th>% de retiradas/estação</th>\n",
       "      <th>Estação de Destino</th>\n",
       "      <th>% de devoluções/estação</th>\n",
       "      <th>faixa_etaria</th>\n",
       "    </tr>\n",
       "  </thead>\n",
       "  <tbody>\n",
       "    <tr>\n",
       "      <th>1159</th>\n",
       "      <td>M</td>\n",
       "      <td>20/09/1996 00:00:00</td>\n",
       "      <td>NaN</td>\n",
       "      <td>21</td>\n",
       "      <td>2018-08-01</td>\n",
       "      <td>17:40:17</td>\n",
       "      <td>11:41:59</td>\n",
       "      <td>0.0</td>\n",
       "      <td>5 - Setor Hoteleiro Norte</td>\n",
       "      <td>0.015320</td>\n",
       "      <td>11 - Rodoviária 2</td>\n",
       "      <td>0.052573</td>\n",
       "      <td>(18.0, 36.0]</td>\n",
       "    </tr>\n",
       "    <tr>\n",
       "      <th>1289</th>\n",
       "      <td>F</td>\n",
       "      <td>29/09/1965 00:00:00</td>\n",
       "      <td>DF</td>\n",
       "      <td>52</td>\n",
       "      <td>2018-08-01</td>\n",
       "      <td>18:23:51</td>\n",
       "      <td>10:24:00</td>\n",
       "      <td>0.0</td>\n",
       "      <td>46 - EQN 408/409</td>\n",
       "      <td>0.039713</td>\n",
       "      <td>42 - PAT</td>\n",
       "      <td>0.031240</td>\n",
       "      <td>(36.0, 54.0]</td>\n",
       "    </tr>\n",
       "    <tr>\n",
       "      <th>1442</th>\n",
       "      <td>F</td>\n",
       "      <td>30/08/1996 00:00:00</td>\n",
       "      <td>NaN</td>\n",
       "      <td>21</td>\n",
       "      <td>2018-08-01</td>\n",
       "      <td>19:40:41</td>\n",
       "      <td>14:02:52</td>\n",
       "      <td>0.0</td>\n",
       "      <td>46 - EQN 408/409</td>\n",
       "      <td>0.039713</td>\n",
       "      <td>35 - CLN 403</td>\n",
       "      <td>0.023366</td>\n",
       "      <td>(18.0, 36.0]</td>\n",
       "    </tr>\n",
       "    <tr>\n",
       "      <th>1540</th>\n",
       "      <td>M</td>\n",
       "      <td>1996-12-09 00:00:00</td>\n",
       "      <td>NaN</td>\n",
       "      <td>21</td>\n",
       "      <td>2018-08-01</td>\n",
       "      <td>22:52:45</td>\n",
       "      <td>07:54:23</td>\n",
       "      <td>0.0</td>\n",
       "      <td>46 - EQN 408/409</td>\n",
       "      <td>0.039713</td>\n",
       "      <td>43 - Biblioteca Central</td>\n",
       "      <td>0.018444</td>\n",
       "      <td>(18.0, 36.0]</td>\n",
       "    </tr>\n",
       "    <tr>\n",
       "      <th>1542</th>\n",
       "      <td>M</td>\n",
       "      <td>1997-10-09 00:00:00</td>\n",
       "      <td>DF</td>\n",
       "      <td>20</td>\n",
       "      <td>2018-08-01</td>\n",
       "      <td>22:59:10</td>\n",
       "      <td>07:55:04</td>\n",
       "      <td>0.0</td>\n",
       "      <td>42 - PAT</td>\n",
       "      <td>0.026105</td>\n",
       "      <td>43 - Biblioteca Central</td>\n",
       "      <td>0.018444</td>\n",
       "      <td>(18.0, 36.0]</td>\n",
       "    </tr>\n",
       "  </tbody>\n",
       "</table>\n",
       "</div>"
      ],
      "text/plain": [
       "     Gênero do usuário      data nascimento  \\\n",
       "1159                 M  20/09/1996 00:00:00   \n",
       "1289                 F  29/09/1965 00:00:00   \n",
       "1442                 F  30/08/1996 00:00:00   \n",
       "1540                 M  1996-12-09 00:00:00   \n",
       "1542                 M  1997-10-09 00:00:00   \n",
       "\n",
       "     Cidade / Região Administrativa onde habita  Idade       Data  \\\n",
       "1159                                        NaN     21 2018-08-01   \n",
       "1289                                         DF     52 2018-08-01   \n",
       "1442                                        NaN     21 2018-08-01   \n",
       "1540                                        NaN     21 2018-08-01   \n",
       "1542                                         DF     20 2018-08-01   \n",
       "\n",
       "     Horário de retirada Horário de devolução  tempo de viagem  \\\n",
       "1159            17:40:17             11:41:59              0.0   \n",
       "1289            18:23:51             10:24:00              0.0   \n",
       "1442            19:40:41             14:02:52              0.0   \n",
       "1540            22:52:45             07:54:23              0.0   \n",
       "1542            22:59:10             07:55:04              0.0   \n",
       "\n",
       "              Estação de origem  % de retiradas/estação  \\\n",
       "1159  5 - Setor Hoteleiro Norte                0.015320   \n",
       "1289           46 - EQN 408/409                0.039713   \n",
       "1442           46 - EQN 408/409                0.039713   \n",
       "1540           46 - EQN 408/409                0.039713   \n",
       "1542                   42 - PAT                0.026105   \n",
       "\n",
       "           Estação de Destino  % de devoluções/estação  faixa_etaria  \n",
       "1159        11 - Rodoviária 2                 0.052573  (18.0, 36.0]  \n",
       "1289                 42 - PAT                 0.031240  (36.0, 54.0]  \n",
       "1442             35 - CLN 403                 0.023366  (18.0, 36.0]  \n",
       "1540  43 - Biblioteca Central                 0.018444  (18.0, 36.0]  \n",
       "1542  43 - Biblioteca Central                 0.018444  (18.0, 36.0]  "
      ]
     },
     "execution_count": 32,
     "metadata": {},
     "output_type": "execute_result"
    }
   ],
   "source": [
    "# COMO NÃO HÁ DATA DE ENTREGA, NÃO É POSSÍVEL INFERIR A QUE DIA FOI DEVOLVIDO OS REGISTROS ABAIXO\n",
    "# OS DADOS NÃO ESTÃO COMO UMA TIMESTAMP\n",
    "bikes[bikes['tempo de viagem'] == 0].head()"
   ]
  },
  {
   "cell_type": "code",
   "execution_count": 33,
   "metadata": {},
   "outputs": [
    {
     "data": {
      "text/plain": [
       "(58, 13)"
      ]
     },
     "execution_count": 33,
     "metadata": {},
     "output_type": "execute_result"
    }
   ],
   "source": [
    "#Existem 58 registros de Gênero O, como não existe metadado disponível para contextualizar, será excluído do conjunto de dados.\n",
    "bikes[bikes['Gênero do usuário'] == 'O'].shape"
   ]
  },
  {
   "cell_type": "code",
   "execution_count": 34,
   "metadata": {},
   "outputs": [],
   "source": [
    "bikes = bikes[bikes['Gênero do usuário'] != 'O']"
   ]
  },
  {
   "cell_type": "code",
   "execution_count": 35,
   "metadata": {},
   "outputs": [
    {
     "data": {
      "text/plain": [
       "(355, 13)"
      ]
     },
     "execution_count": 35,
     "metadata": {},
     "output_type": "execute_result"
    }
   ],
   "source": [
    "bikes[bikes['tempo de viagem'] == 0].shape"
   ]
  },
  {
   "cell_type": "code",
   "execution_count": 36,
   "metadata": {},
   "outputs": [],
   "source": [
    "#seleciona os registros que serão descartados\n",
    "data_error = bikes[bikes['tempo de viagem'] == 0]"
   ]
  },
  {
   "cell_type": "code",
   "execution_count": 37,
   "metadata": {},
   "outputs": [],
   "source": [
    "#seleciona os indices a serem eliminados\n",
    "lista_indice_errors = data_error.index.tolist()"
   ]
  },
  {
   "cell_type": "code",
   "execution_count": 38,
   "metadata": {},
   "outputs": [],
   "source": [
    "#retira do dataset\n",
    "bikes.drop(lista_indice_errors, inplace=True)"
   ]
  },
  {
   "cell_type": "code",
   "execution_count": 39,
   "metadata": {},
   "outputs": [],
   "source": [
    "#exporta arquivo com todo o conteúdo\n",
    "bikes.to_csv(\"../data/interm/bikes_df.csv\", sep=',', encoding='latin-1', index=False)"
   ]
  },
  {
   "cell_type": "code",
   "execution_count": 40,
   "metadata": {},
   "outputs": [],
   "source": [
    "genero_usuarios_bikes = bikes.groupby('Gênero do usuário')['tempo de viagem'].count()"
   ]
  },
  {
   "cell_type": "code",
   "execution_count": 41,
   "metadata": {},
   "outputs": [],
   "source": [
    "genero_usuarios_bikes = pd.DataFrame(genero_usuarios_bikes)"
   ]
  },
  {
   "cell_type": "code",
   "execution_count": 42,
   "metadata": {},
   "outputs": [],
   "source": [
    "genero_usuarios_bikes.columns = ['numero_usuarios']\n",
    "genero_usuarios_bikes.index = ['Feminino', 'Masculino']"
   ]
  },
  {
   "cell_type": "code",
   "execution_count": 43,
   "metadata": {},
   "outputs": [],
   "source": [
    "genero_usuarios_bikes['percentual'] = genero_usuarios_bikes['numero_usuarios'].apply(lambda x : round(x/genero_usuarios_bikes['numero_usuarios'].sum(),2))"
   ]
  },
  {
   "cell_type": "code",
   "execution_count": 44,
   "metadata": {},
   "outputs": [
    {
     "data": {
      "text/html": [
       "<div>\n",
       "<style scoped>\n",
       "    .dataframe tbody tr th:only-of-type {\n",
       "        vertical-align: middle;\n",
       "    }\n",
       "\n",
       "    .dataframe tbody tr th {\n",
       "        vertical-align: top;\n",
       "    }\n",
       "\n",
       "    .dataframe thead th {\n",
       "        text-align: right;\n",
       "    }\n",
       "</style>\n",
       "<table border=\"1\" class=\"dataframe\">\n",
       "  <thead>\n",
       "    <tr style=\"text-align: right;\">\n",
       "      <th></th>\n",
       "      <th>numero_usuarios</th>\n",
       "      <th>percentual</th>\n",
       "    </tr>\n",
       "  </thead>\n",
       "  <tbody>\n",
       "    <tr>\n",
       "      <th>Feminino</th>\n",
       "      <td>12214</td>\n",
       "      <td>0.26</td>\n",
       "    </tr>\n",
       "    <tr>\n",
       "      <th>Masculino</th>\n",
       "      <td>34107</td>\n",
       "      <td>0.74</td>\n",
       "    </tr>\n",
       "  </tbody>\n",
       "</table>\n",
       "</div>"
      ],
      "text/plain": [
       "           numero_usuarios  percentual\n",
       "Feminino             12214        0.26\n",
       "Masculino            34107        0.74"
      ]
     },
     "execution_count": 44,
     "metadata": {},
     "output_type": "execute_result"
    }
   ],
   "source": [
    "genero_usuarios_bikes.head()"
   ]
  },
  {
   "cell_type": "code",
   "execution_count": 45,
   "metadata": {},
   "outputs": [],
   "source": [
    "#exporta arquivo com dados de genero\n",
    "genero_usuarios_bikes.to_csv(\"../data/interm/genero_usuarios_df.csv\", sep=',')"
   ]
  },
  {
   "cell_type": "code",
   "execution_count": 46,
   "metadata": {},
   "outputs": [],
   "source": [
    "#cria dataset para faixas etarias\n",
    "faixa_etaria_usuarios_bike_df = bikes.groupby('faixa_etaria')['Gênero do usuário'].count()"
   ]
  },
  {
   "cell_type": "code",
   "execution_count": 47,
   "metadata": {},
   "outputs": [],
   "source": [
    "faixa_etaria_usuarios_bike_df  = pd.DataFrame(faixa_etaria_usuarios_bike_df)"
   ]
  },
  {
   "cell_type": "code",
   "execution_count": 48,
   "metadata": {},
   "outputs": [],
   "source": [
    "faixa_etaria_usuarios_bike_df.columns=['numero_usuarios']"
   ]
  },
  {
   "cell_type": "code",
   "execution_count": 50,
   "metadata": {},
   "outputs": [],
   "source": [
    "#exporta arquivo com dados de faixas etárias\n",
    "faixa_etaria_usuarios_bike_df.to_csv(\"../data/interm/faixa_etaria_usuarios_df.csv\", sep=',')"
   ]
  },
  {
   "cell_type": "markdown",
   "metadata": {},
   "source": [
    "# Analise das Estações mais utilizadas"
   ]
  },
  {
   "cell_type": "code",
   "execution_count": 51,
   "metadata": {},
   "outputs": [
    {
     "data": {
      "text/plain": [
       "Estação de origem\n",
       "1 - Memorial JK                                         786\n",
       "10 - Ministério dos Transportes                         620\n",
       "11 - Rodoviária 2                                      2035\n",
       "12 - Rodoviária 3                                      1677\n",
       "13 - Liberty Mall                                       496\n",
       "14 - Brasília Shopping                                  762\n",
       "15 - Brasil 21                                         2190\n",
       "16 - SRTVS                                              874\n",
       "17 - Shopping Pátio Brasil                              925\n",
       "18 - Praça do Povo                                      436\n",
       "19 - Banco Central                                      584\n",
       "2 - Praça Buriti                                        630\n",
       "20 - SAS                                                400\n",
       "21 - EQS 202 / 203                                      564\n",
       "22 - 102 Sul                                            710\n",
       "23 - STF                                                665\n",
       "24 - Galeria                                            862\n",
       "25 - Deck Sul                                           491\n",
       "26 - Ministério da Saude                               1158\n",
       "27 - Ministério do Planejamento                         742\n",
       "28 - CNMP - Conselho Nacional do Ministério Público     417\n",
       "29 - INMETRO                                            635\n",
       "3 - Centro de Convenções                                671\n",
       "30 - TSE                                                352\n",
       "31 - EQS 204/205                                        733\n",
       "32 - SQS 305                                            567\n",
       "33 - EQS 104/304                                        420\n",
       "34 - Shopping Mall                                      546\n",
       "35 - CLN 403                                           1022\n",
       "36 - CLN 204                                            879\n",
       "37 - EQN 104/105                                        848\n",
       "38 - SQN 205                                            876\n",
       "39 - CLN 406                                           2091\n",
       "4 - Torre de TV                                         689\n",
       "40 - W2/EQN305/306                                     1035\n",
       "41 - Instituto de Artes                                2612\n",
       "42 - PAT                                               1208\n",
       "43 - Biblioteca Central                                 542\n",
       "44 - ICC Sul                                           1790\n",
       "45 - Centro Olímpico                                   1778\n",
       "46 - EQN 408/409                                       1833\n",
       "47 - EQN 410/411                                       1742\n",
       "5 - Setor Hoteleiro Norte                               707\n",
       "500 - Deck Sul Kids                                     202\n",
       "6 - Rodoviária                                         2207\n",
       "7 - Catedral Metropolitana                              934\n",
       "8 - Ministério da Defesa                                502\n",
       "9 - Ministério da Cultura                               876\n",
       "Name: Estação de Destino, dtype: int64"
      ]
     },
     "execution_count": 51,
     "metadata": {},
     "output_type": "execute_result"
    }
   ],
   "source": [
    "bikes.groupby('Estação de origem')[\"Estação de Destino\"].count()"
   ]
  },
  {
   "cell_type": "code",
   "execution_count": 52,
   "metadata": {},
   "outputs": [],
   "source": [
    "#sanitiza o nome das estações\n",
    "bikes['Estação de origem'] = bikes['Estação de origem'].apply(lambda x : x[x.index('-')+1:].strip())\n",
    "bikes['Estação de Destino'] = bikes['Estação de Destino'].apply(lambda x : x[x.index('-')+1:].strip())"
   ]
  },
  {
   "cell_type": "code",
   "execution_count": 53,
   "metadata": {},
   "outputs": [],
   "source": [
    "dados_fluxo_viagens = bikes.groupby([\"Estação de origem\", \"Estação de Destino\"])['Gênero do usuário'].count()"
   ]
  },
  {
   "cell_type": "code",
   "execution_count": 54,
   "metadata": {},
   "outputs": [],
   "source": [
    "dados_fluxo_viagens = pd.DataFrame(dados_fluxo_viagens)"
   ]
  },
  {
   "cell_type": "code",
   "execution_count": 55,
   "metadata": {},
   "outputs": [],
   "source": [
    "dados_fluxo_viagens.columns=['contagem_viagens']"
   ]
  },
  {
   "cell_type": "code",
   "execution_count": 56,
   "metadata": {},
   "outputs": [
    {
     "data": {
      "text/html": [
       "<div>\n",
       "<style scoped>\n",
       "    .dataframe tbody tr th:only-of-type {\n",
       "        vertical-align: middle;\n",
       "    }\n",
       "\n",
       "    .dataframe tbody tr th {\n",
       "        vertical-align: top;\n",
       "    }\n",
       "\n",
       "    .dataframe thead th {\n",
       "        text-align: right;\n",
       "    }\n",
       "</style>\n",
       "<table border=\"1\" class=\"dataframe\">\n",
       "  <thead>\n",
       "    <tr style=\"text-align: right;\">\n",
       "      <th></th>\n",
       "      <th></th>\n",
       "      <th>contagem_viagens</th>\n",
       "    </tr>\n",
       "    <tr>\n",
       "      <th>Estação de origem</th>\n",
       "      <th>Estação de Destino</th>\n",
       "      <th></th>\n",
       "    </tr>\n",
       "  </thead>\n",
       "  <tbody>\n",
       "    <tr>\n",
       "      <th rowspan=\"5\" valign=\"top\">102 Sul</th>\n",
       "      <th>102 Sul</th>\n",
       "      <td>96</td>\n",
       "    </tr>\n",
       "    <tr>\n",
       "      <th>Banco Central</th>\n",
       "      <td>8</td>\n",
       "    </tr>\n",
       "    <tr>\n",
       "      <th>Brasil 21</th>\n",
       "      <td>40</td>\n",
       "    </tr>\n",
       "    <tr>\n",
       "      <th>Brasília Shopping</th>\n",
       "      <td>2</td>\n",
       "    </tr>\n",
       "    <tr>\n",
       "      <th>CLN 204</th>\n",
       "      <td>5</td>\n",
       "    </tr>\n",
       "  </tbody>\n",
       "</table>\n",
       "</div>"
      ],
      "text/plain": [
       "                                      contagem_viagens\n",
       "Estação de origem Estação de Destino                  \n",
       "102 Sul           102 Sul                           96\n",
       "                  Banco Central                      8\n",
       "                  Brasil 21                         40\n",
       "                  Brasília Shopping                  2\n",
       "                  CLN 204                            5"
      ]
     },
     "execution_count": 56,
     "metadata": {},
     "output_type": "execute_result"
    }
   ],
   "source": [
    "dados_fluxo_viagens.head()"
   ]
  },
  {
   "cell_type": "code",
   "execution_count": 57,
   "metadata": {},
   "outputs": [
    {
     "data": {
      "text/plain": [
       "(1902, 1)"
      ]
     },
     "execution_count": 57,
     "metadata": {},
     "output_type": "execute_result"
    }
   ],
   "source": [
    "dados_fluxo_viagens.shape"
   ]
  },
  {
   "cell_type": "code",
   "execution_count": 58,
   "metadata": {},
   "outputs": [],
   "source": [
    "dados_fluxo_viagens.to_csv(\"../data/interm/fluxo_trajetos_contagem_completo.csv\", sep=',', encoding='latin-1')"
   ]
  },
  {
   "cell_type": "code",
   "execution_count": 59,
   "metadata": {},
   "outputs": [],
   "source": [
    "#ORDENA DA ROTA MAIS UTILIZADA PARA MENOS UTILIZADA\n",
    "update_data_fluxo = dados_fluxo_viagens.sort_values('contagem_viagens', ascending=False)"
   ]
  },
  {
   "cell_type": "code",
   "execution_count": 110,
   "metadata": {},
   "outputs": [
    {
     "data": {
      "text/plain": [
       "(1902, 4)"
      ]
     },
     "execution_count": 110,
     "metadata": {},
     "output_type": "execute_result"
    }
   ],
   "source": [
    "update_data_fluxo.shape"
   ]
  },
  {
   "cell_type": "code",
   "execution_count": 60,
   "metadata": {},
   "outputs": [
    {
     "data": {
      "text/plain": [
       "Estação de origem    Estação de Destino \n",
       "Brasil 21            Brasil 21              1296\n",
       "ICC Sul              Centro Olímpico         640\n",
       "Instituto de Artes   Centro Olímpico         623\n",
       "Centro Olímpico      ICC Sul                 587\n",
       "Deck Sul             Deck Sul                475\n",
       "Centro Olímpico      Instituto de Artes      458\n",
       "Ministério da Saude  Rodoviária 2            387\n",
       "EQN 408/409          Instituto de Artes      378\n",
       "Instituto de Artes   EQN 408/409             369\n",
       "CLN 406              Instituto de Artes      320\n",
       "EQN 410/411          EQN 410/411             320\n",
       "Instituto de Artes   CLN 406                 277\n",
       "                     EQN 410/411             276\n",
       "EQN 410/411          Instituto de Artes      275\n",
       "Rodoviária 2         Ministério da Saude     270\n",
       "CLN 406              EQN 408/409             269\n",
       "EQN 408/409          CLN 406                 266\n",
       "CLN 406              EQN 410/411             264\n",
       "EQN 410/411          CLN 406                 264\n",
       "Rodoviária           Ministério da Saude     236\n",
       "Name: contagem_viagens, dtype: int64"
      ]
     },
     "execution_count": 60,
     "metadata": {},
     "output_type": "execute_result"
    }
   ],
   "source": [
    "update_data_fluxo['contagem_viagens'][:20]"
   ]
  },
  {
   "cell_type": "code",
   "execution_count": 114,
   "metadata": {},
   "outputs": [
    {
     "data": {
      "text/plain": [
       "Estação de origem      Estação de Destino                            \n",
       "EQS 204/205            PAT                                               1\n",
       "SRTVS                  CNMP - Conselho Nacional do Ministério Público    1\n",
       "EQN 410/411            TSE                                               1\n",
       "EQS 204/205            EQN 408/409                                       1\n",
       "STF                    EQN 408/409                                       1\n",
       "EQS 104/304            Centro de Convenções                              1\n",
       "                       EQN 408/409                                       1\n",
       "                       ICC Sul                                           1\n",
       "                       Liberty Mall                                      1\n",
       "                       TSE                                               1\n",
       "EQS 202 / 203          Memorial JK                                       1\n",
       "                       PAT                                               1\n",
       "102 Sul                EQN 408/409                                       1\n",
       "EQS 202 / 203          Shopping Pátio Brasil                             1\n",
       "EQS 204/205            CLN 204                                           1\n",
       "                       CLN 406                                           1\n",
       "                       Centro de Convenções                              1\n",
       "Praça do Povo          CLN 204                                           1\n",
       "SRTVS                  Centro Olímpico                                   1\n",
       "Ministério da Cultura  Praça do Povo                                     1\n",
       "Name: contagem_viagens, dtype: int64"
      ]
     },
     "execution_count": 114,
     "metadata": {},
     "output_type": "execute_result"
    }
   ],
   "source": [
    "update_data_fluxo['contagem_viagens'].tail(20)"
   ]
  },
  {
   "cell_type": "code",
   "execution_count": 61,
   "metadata": {},
   "outputs": [],
   "source": [
    "update_data_fluxo['contagem_acumulada'] = update_data_fluxo['contagem_viagens'].cumsum()"
   ]
  },
  {
   "cell_type": "code",
   "execution_count": 62,
   "metadata": {},
   "outputs": [],
   "source": [
    "#CRIA UMA COLUNA PARA ORIENTAR A ANÁLISE DE PARETO\n",
    "update_data_fluxo['rank'] = range(1, update_data_fluxo.shape[0]+1)"
   ]
  },
  {
   "cell_type": "code",
   "execution_count": 63,
   "metadata": {},
   "outputs": [
    {
     "data": {
      "text/html": [
       "<div>\n",
       "<style scoped>\n",
       "    .dataframe tbody tr th:only-of-type {\n",
       "        vertical-align: middle;\n",
       "    }\n",
       "\n",
       "    .dataframe tbody tr th {\n",
       "        vertical-align: top;\n",
       "    }\n",
       "\n",
       "    .dataframe thead th {\n",
       "        text-align: right;\n",
       "    }\n",
       "</style>\n",
       "<table border=\"1\" class=\"dataframe\">\n",
       "  <thead>\n",
       "    <tr style=\"text-align: right;\">\n",
       "      <th></th>\n",
       "      <th></th>\n",
       "      <th>contagem_viagens</th>\n",
       "      <th>contagem_acumulada</th>\n",
       "      <th>rank</th>\n",
       "    </tr>\n",
       "    <tr>\n",
       "      <th>Estação de origem</th>\n",
       "      <th>Estação de Destino</th>\n",
       "      <th></th>\n",
       "      <th></th>\n",
       "      <th></th>\n",
       "    </tr>\n",
       "  </thead>\n",
       "  <tbody>\n",
       "    <tr>\n",
       "      <th>Brasil 21</th>\n",
       "      <th>Brasil 21</th>\n",
       "      <td>1296</td>\n",
       "      <td>1296</td>\n",
       "      <td>1</td>\n",
       "    </tr>\n",
       "    <tr>\n",
       "      <th>ICC Sul</th>\n",
       "      <th>Centro Olímpico</th>\n",
       "      <td>640</td>\n",
       "      <td>1936</td>\n",
       "      <td>2</td>\n",
       "    </tr>\n",
       "    <tr>\n",
       "      <th>Instituto de Artes</th>\n",
       "      <th>Centro Olímpico</th>\n",
       "      <td>623</td>\n",
       "      <td>2559</td>\n",
       "      <td>3</td>\n",
       "    </tr>\n",
       "    <tr>\n",
       "      <th>Centro Olímpico</th>\n",
       "      <th>ICC Sul</th>\n",
       "      <td>587</td>\n",
       "      <td>3146</td>\n",
       "      <td>4</td>\n",
       "    </tr>\n",
       "    <tr>\n",
       "      <th>Deck Sul</th>\n",
       "      <th>Deck Sul</th>\n",
       "      <td>475</td>\n",
       "      <td>3621</td>\n",
       "      <td>5</td>\n",
       "    </tr>\n",
       "  </tbody>\n",
       "</table>\n",
       "</div>"
      ],
      "text/plain": [
       "                                       contagem_viagens  contagem_acumulada  \\\n",
       "Estação de origem  Estação de Destino                                         \n",
       "Brasil 21          Brasil 21                       1296                1296   \n",
       "ICC Sul            Centro Olímpico                  640                1936   \n",
       "Instituto de Artes Centro Olímpico                  623                2559   \n",
       "Centro Olímpico    ICC Sul                          587                3146   \n",
       "Deck Sul           Deck Sul                         475                3621   \n",
       "\n",
       "                                       rank  \n",
       "Estação de origem  Estação de Destino        \n",
       "Brasil 21          Brasil 21              1  \n",
       "ICC Sul            Centro Olímpico        2  \n",
       "Instituto de Artes Centro Olímpico        3  \n",
       "Centro Olímpico    ICC Sul                4  \n",
       "Deck Sul           Deck Sul               5  "
      ]
     },
     "execution_count": 63,
     "metadata": {},
     "output_type": "execute_result"
    }
   ],
   "source": [
    "update_data_fluxo.head()"
   ]
  },
  {
   "cell_type": "code",
   "execution_count": 64,
   "metadata": {},
   "outputs": [
    {
     "data": {
      "text/html": [
       "<div>\n",
       "<style scoped>\n",
       "    .dataframe tbody tr th:only-of-type {\n",
       "        vertical-align: middle;\n",
       "    }\n",
       "\n",
       "    .dataframe tbody tr th {\n",
       "        vertical-align: top;\n",
       "    }\n",
       "\n",
       "    .dataframe thead th {\n",
       "        text-align: right;\n",
       "    }\n",
       "</style>\n",
       "<table border=\"1\" class=\"dataframe\">\n",
       "  <thead>\n",
       "    <tr style=\"text-align: right;\">\n",
       "      <th></th>\n",
       "      <th></th>\n",
       "      <th>contagem_viagens</th>\n",
       "      <th>contagem_acumulada</th>\n",
       "      <th>rank</th>\n",
       "    </tr>\n",
       "    <tr>\n",
       "      <th>Estação de origem</th>\n",
       "      <th>Estação de Destino</th>\n",
       "      <th></th>\n",
       "      <th></th>\n",
       "      <th></th>\n",
       "    </tr>\n",
       "  </thead>\n",
       "  <tbody>\n",
       "    <tr>\n",
       "      <th rowspan=\"2\" valign=\"top\">EQS 204/205</th>\n",
       "      <th>CLN 406</th>\n",
       "      <td>1</td>\n",
       "      <td>46317</td>\n",
       "      <td>1898</td>\n",
       "    </tr>\n",
       "    <tr>\n",
       "      <th>Centro de Convenções</th>\n",
       "      <td>1</td>\n",
       "      <td>46318</td>\n",
       "      <td>1899</td>\n",
       "    </tr>\n",
       "    <tr>\n",
       "      <th>Praça do Povo</th>\n",
       "      <th>CLN 204</th>\n",
       "      <td>1</td>\n",
       "      <td>46319</td>\n",
       "      <td>1900</td>\n",
       "    </tr>\n",
       "    <tr>\n",
       "      <th>SRTVS</th>\n",
       "      <th>Centro Olímpico</th>\n",
       "      <td>1</td>\n",
       "      <td>46320</td>\n",
       "      <td>1901</td>\n",
       "    </tr>\n",
       "    <tr>\n",
       "      <th>Ministério da Cultura</th>\n",
       "      <th>Praça do Povo</th>\n",
       "      <td>1</td>\n",
       "      <td>46321</td>\n",
       "      <td>1902</td>\n",
       "    </tr>\n",
       "  </tbody>\n",
       "</table>\n",
       "</div>"
      ],
      "text/plain": [
       "                                            contagem_viagens  \\\n",
       "Estação de origem     Estação de Destino                       \n",
       "EQS 204/205           CLN 406                              1   \n",
       "                      Centro de Convenções                 1   \n",
       "Praça do Povo         CLN 204                              1   \n",
       "SRTVS                 Centro Olímpico                      1   \n",
       "Ministério da Cultura Praça do Povo                        1   \n",
       "\n",
       "                                            contagem_acumulada  rank  \n",
       "Estação de origem     Estação de Destino                              \n",
       "EQS 204/205           CLN 406                            46317  1898  \n",
       "                      Centro de Convenções               46318  1899  \n",
       "Praça do Povo         CLN 204                            46319  1900  \n",
       "SRTVS                 Centro Olímpico                    46320  1901  \n",
       "Ministério da Cultura Praça do Povo                      46321  1902  "
      ]
     },
     "execution_count": 64,
     "metadata": {},
     "output_type": "execute_result"
    }
   ],
   "source": [
    "update_data_fluxo.tail()"
   ]
  },
  {
   "cell_type": "code",
   "execution_count": 65,
   "metadata": {},
   "outputs": [],
   "source": [
    "update_data_fluxo['freq_acumulada'] = update_data_fluxo['contagem_acumulada']/update_data_fluxo['contagem_viagens'].sum()*100"
   ]
  },
  {
   "cell_type": "code",
   "execution_count": 66,
   "metadata": {},
   "outputs": [
    {
     "data": {
      "text/html": [
       "<div>\n",
       "<style scoped>\n",
       "    .dataframe tbody tr th:only-of-type {\n",
       "        vertical-align: middle;\n",
       "    }\n",
       "\n",
       "    .dataframe tbody tr th {\n",
       "        vertical-align: top;\n",
       "    }\n",
       "\n",
       "    .dataframe thead th {\n",
       "        text-align: right;\n",
       "    }\n",
       "</style>\n",
       "<table border=\"1\" class=\"dataframe\">\n",
       "  <thead>\n",
       "    <tr style=\"text-align: right;\">\n",
       "      <th></th>\n",
       "      <th></th>\n",
       "      <th>contagem_viagens</th>\n",
       "      <th>contagem_acumulada</th>\n",
       "      <th>rank</th>\n",
       "      <th>freq_acumulada</th>\n",
       "    </tr>\n",
       "    <tr>\n",
       "      <th>Estação de origem</th>\n",
       "      <th>Estação de Destino</th>\n",
       "      <th></th>\n",
       "      <th></th>\n",
       "      <th></th>\n",
       "      <th></th>\n",
       "    </tr>\n",
       "  </thead>\n",
       "  <tbody>\n",
       "    <tr>\n",
       "      <th>Brasil 21</th>\n",
       "      <th>Brasil 21</th>\n",
       "      <td>1296</td>\n",
       "      <td>1296</td>\n",
       "      <td>1</td>\n",
       "      <td>2.797867</td>\n",
       "    </tr>\n",
       "    <tr>\n",
       "      <th>ICC Sul</th>\n",
       "      <th>Centro Olímpico</th>\n",
       "      <td>640</td>\n",
       "      <td>1936</td>\n",
       "      <td>2</td>\n",
       "      <td>4.179530</td>\n",
       "    </tr>\n",
       "    <tr>\n",
       "      <th>Instituto de Artes</th>\n",
       "      <th>Centro Olímpico</th>\n",
       "      <td>623</td>\n",
       "      <td>2559</td>\n",
       "      <td>3</td>\n",
       "      <td>5.524492</td>\n",
       "    </tr>\n",
       "    <tr>\n",
       "      <th>Centro Olímpico</th>\n",
       "      <th>ICC Sul</th>\n",
       "      <td>587</td>\n",
       "      <td>3146</td>\n",
       "      <td>4</td>\n",
       "      <td>6.791736</td>\n",
       "    </tr>\n",
       "    <tr>\n",
       "      <th>Deck Sul</th>\n",
       "      <th>Deck Sul</th>\n",
       "      <td>475</td>\n",
       "      <td>3621</td>\n",
       "      <td>5</td>\n",
       "      <td>7.817189</td>\n",
       "    </tr>\n",
       "  </tbody>\n",
       "</table>\n",
       "</div>"
      ],
      "text/plain": [
       "                                       contagem_viagens  contagem_acumulada  \\\n",
       "Estação de origem  Estação de Destino                                         \n",
       "Brasil 21          Brasil 21                       1296                1296   \n",
       "ICC Sul            Centro Olímpico                  640                1936   \n",
       "Instituto de Artes Centro Olímpico                  623                2559   \n",
       "Centro Olímpico    ICC Sul                          587                3146   \n",
       "Deck Sul           Deck Sul                         475                3621   \n",
       "\n",
       "                                       rank  freq_acumulada  \n",
       "Estação de origem  Estação de Destino                        \n",
       "Brasil 21          Brasil 21              1        2.797867  \n",
       "ICC Sul            Centro Olímpico        2        4.179530  \n",
       "Instituto de Artes Centro Olímpico        3        5.524492  \n",
       "Centro Olímpico    ICC Sul                4        6.791736  \n",
       "Deck Sul           Deck Sul               5        7.817189  "
      ]
     },
     "execution_count": 66,
     "metadata": {},
     "output_type": "execute_result"
    }
   ],
   "source": [
    "update_data_fluxo.head()"
   ]
  },
  {
   "cell_type": "code",
   "execution_count": 67,
   "metadata": {},
   "outputs": [
    {
     "data": {
      "text/html": [
       "<div>\n",
       "<style scoped>\n",
       "    .dataframe tbody tr th:only-of-type {\n",
       "        vertical-align: middle;\n",
       "    }\n",
       "\n",
       "    .dataframe tbody tr th {\n",
       "        vertical-align: top;\n",
       "    }\n",
       "\n",
       "    .dataframe thead th {\n",
       "        text-align: right;\n",
       "    }\n",
       "</style>\n",
       "<table border=\"1\" class=\"dataframe\">\n",
       "  <thead>\n",
       "    <tr style=\"text-align: right;\">\n",
       "      <th></th>\n",
       "      <th></th>\n",
       "      <th>contagem_viagens</th>\n",
       "      <th>contagem_acumulada</th>\n",
       "      <th>rank</th>\n",
       "      <th>freq_acumulada</th>\n",
       "    </tr>\n",
       "    <tr>\n",
       "      <th>Estação de origem</th>\n",
       "      <th>Estação de Destino</th>\n",
       "      <th></th>\n",
       "      <th></th>\n",
       "      <th></th>\n",
       "      <th></th>\n",
       "    </tr>\n",
       "  </thead>\n",
       "  <tbody>\n",
       "    <tr>\n",
       "      <th rowspan=\"2\" valign=\"top\">EQS 204/205</th>\n",
       "      <th>CLN 406</th>\n",
       "      <td>1</td>\n",
       "      <td>46317</td>\n",
       "      <td>1898</td>\n",
       "      <td>99.991365</td>\n",
       "    </tr>\n",
       "    <tr>\n",
       "      <th>Centro de Convenções</th>\n",
       "      <td>1</td>\n",
       "      <td>46318</td>\n",
       "      <td>1899</td>\n",
       "      <td>99.993523</td>\n",
       "    </tr>\n",
       "    <tr>\n",
       "      <th>Praça do Povo</th>\n",
       "      <th>CLN 204</th>\n",
       "      <td>1</td>\n",
       "      <td>46319</td>\n",
       "      <td>1900</td>\n",
       "      <td>99.995682</td>\n",
       "    </tr>\n",
       "    <tr>\n",
       "      <th>SRTVS</th>\n",
       "      <th>Centro Olímpico</th>\n",
       "      <td>1</td>\n",
       "      <td>46320</td>\n",
       "      <td>1901</td>\n",
       "      <td>99.997841</td>\n",
       "    </tr>\n",
       "    <tr>\n",
       "      <th>Ministério da Cultura</th>\n",
       "      <th>Praça do Povo</th>\n",
       "      <td>1</td>\n",
       "      <td>46321</td>\n",
       "      <td>1902</td>\n",
       "      <td>100.000000</td>\n",
       "    </tr>\n",
       "  </tbody>\n",
       "</table>\n",
       "</div>"
      ],
      "text/plain": [
       "                                            contagem_viagens  \\\n",
       "Estação de origem     Estação de Destino                       \n",
       "EQS 204/205           CLN 406                              1   \n",
       "                      Centro de Convenções                 1   \n",
       "Praça do Povo         CLN 204                              1   \n",
       "SRTVS                 Centro Olímpico                      1   \n",
       "Ministério da Cultura Praça do Povo                        1   \n",
       "\n",
       "                                            contagem_acumulada  rank  \\\n",
       "Estação de origem     Estação de Destino                               \n",
       "EQS 204/205           CLN 406                            46317  1898   \n",
       "                      Centro de Convenções               46318  1899   \n",
       "Praça do Povo         CLN 204                            46319  1900   \n",
       "SRTVS                 Centro Olímpico                    46320  1901   \n",
       "Ministério da Cultura Praça do Povo                      46321  1902   \n",
       "\n",
       "                                            freq_acumulada  \n",
       "Estação de origem     Estação de Destino                    \n",
       "EQS 204/205           CLN 406                    99.991365  \n",
       "                      Centro de Convenções       99.993523  \n",
       "Praça do Povo         CLN 204                    99.995682  \n",
       "SRTVS                 Centro Olímpico            99.997841  \n",
       "Ministério da Cultura Praça do Povo             100.000000  "
      ]
     },
     "execution_count": 67,
     "metadata": {},
     "output_type": "execute_result"
    }
   ],
   "source": [
    "update_data_fluxo.tail()"
   ]
  },
  {
   "cell_type": "code",
   "execution_count": 68,
   "metadata": {},
   "outputs": [
    {
     "data": {
      "text/plain": [
       "(482, 4)"
      ]
     },
     "execution_count": 68,
     "metadata": {},
     "output_type": "execute_result"
    }
   ],
   "source": [
    "#o número total de rotas que correspondem por 80% de todas as rotas\n",
    "update_data_fluxo[update_data_fluxo['freq_acumulada'] <= 80].shape"
   ]
  },
  {
   "cell_type": "code",
   "execution_count": 69,
   "metadata": {},
   "outputs": [
    {
     "data": {
      "text/plain": [
       "25.341745531019978"
      ]
     },
     "execution_count": 69,
     "metadata": {},
     "output_type": "execute_result"
    }
   ],
   "source": [
    "#o percentual de rotas que correspodem por 80% de todas as rotas\n",
    "update_data_fluxo[update_data_fluxo['freq_acumulada'] <= 80].shape[0]/update_data_fluxo.shape[0]*100"
   ]
  },
  {
   "cell_type": "code",
   "execution_count": 70,
   "metadata": {},
   "outputs": [
    {
     "data": {
      "text/plain": [
       "(1902, 4)"
      ]
     },
     "execution_count": 70,
     "metadata": {},
     "output_type": "execute_result"
    }
   ],
   "source": [
    "update_data_fluxo.shape"
   ]
  },
  {
   "cell_type": "code",
   "execution_count": 71,
   "metadata": {},
   "outputs": [],
   "source": [
    "pareto = update_data_fluxo[update_data_fluxo['freq_acumulada'] <= 80]"
   ]
  },
  {
   "cell_type": "code",
   "execution_count": 72,
   "metadata": {},
   "outputs": [],
   "source": [
    "pareto = pd.DataFrame(pareto)"
   ]
  },
  {
   "cell_type": "code",
   "execution_count": 73,
   "metadata": {},
   "outputs": [
    {
     "data": {
      "text/html": [
       "<div>\n",
       "<style scoped>\n",
       "    .dataframe tbody tr th:only-of-type {\n",
       "        vertical-align: middle;\n",
       "    }\n",
       "\n",
       "    .dataframe tbody tr th {\n",
       "        vertical-align: top;\n",
       "    }\n",
       "\n",
       "    .dataframe thead th {\n",
       "        text-align: right;\n",
       "    }\n",
       "</style>\n",
       "<table border=\"1\" class=\"dataframe\">\n",
       "  <thead>\n",
       "    <tr style=\"text-align: right;\">\n",
       "      <th></th>\n",
       "      <th></th>\n",
       "      <th>contagem_viagens</th>\n",
       "      <th>contagem_acumulada</th>\n",
       "      <th>rank</th>\n",
       "      <th>freq_acumulada</th>\n",
       "    </tr>\n",
       "    <tr>\n",
       "      <th>Estação de origem</th>\n",
       "      <th>Estação de Destino</th>\n",
       "      <th></th>\n",
       "      <th></th>\n",
       "      <th></th>\n",
       "      <th></th>\n",
       "    </tr>\n",
       "  </thead>\n",
       "  <tbody>\n",
       "    <tr>\n",
       "      <th>Brasil 21</th>\n",
       "      <th>Brasil 21</th>\n",
       "      <td>1296</td>\n",
       "      <td>1296</td>\n",
       "      <td>1</td>\n",
       "      <td>2.797867</td>\n",
       "    </tr>\n",
       "    <tr>\n",
       "      <th>ICC Sul</th>\n",
       "      <th>Centro Olímpico</th>\n",
       "      <td>640</td>\n",
       "      <td>1936</td>\n",
       "      <td>2</td>\n",
       "      <td>4.179530</td>\n",
       "    </tr>\n",
       "    <tr>\n",
       "      <th>Instituto de Artes</th>\n",
       "      <th>Centro Olímpico</th>\n",
       "      <td>623</td>\n",
       "      <td>2559</td>\n",
       "      <td>3</td>\n",
       "      <td>5.524492</td>\n",
       "    </tr>\n",
       "    <tr>\n",
       "      <th>Centro Olímpico</th>\n",
       "      <th>ICC Sul</th>\n",
       "      <td>587</td>\n",
       "      <td>3146</td>\n",
       "      <td>4</td>\n",
       "      <td>6.791736</td>\n",
       "    </tr>\n",
       "    <tr>\n",
       "      <th>Deck Sul</th>\n",
       "      <th>Deck Sul</th>\n",
       "      <td>475</td>\n",
       "      <td>3621</td>\n",
       "      <td>5</td>\n",
       "      <td>7.817189</td>\n",
       "    </tr>\n",
       "  </tbody>\n",
       "</table>\n",
       "</div>"
      ],
      "text/plain": [
       "                                       contagem_viagens  contagem_acumulada  \\\n",
       "Estação de origem  Estação de Destino                                         \n",
       "Brasil 21          Brasil 21                       1296                1296   \n",
       "ICC Sul            Centro Olímpico                  640                1936   \n",
       "Instituto de Artes Centro Olímpico                  623                2559   \n",
       "Centro Olímpico    ICC Sul                          587                3146   \n",
       "Deck Sul           Deck Sul                         475                3621   \n",
       "\n",
       "                                       rank  freq_acumulada  \n",
       "Estação de origem  Estação de Destino                        \n",
       "Brasil 21          Brasil 21              1        2.797867  \n",
       "ICC Sul            Centro Olímpico        2        4.179530  \n",
       "Instituto de Artes Centro Olímpico        3        5.524492  \n",
       "Centro Olímpico    ICC Sul                4        6.791736  \n",
       "Deck Sul           Deck Sul               5        7.817189  "
      ]
     },
     "execution_count": 73,
     "metadata": {},
     "output_type": "execute_result"
    }
   ],
   "source": [
    "pareto.head()"
   ]
  },
  {
   "cell_type": "code",
   "execution_count": 74,
   "metadata": {},
   "outputs": [
    {
     "data": {
      "text/plain": [
       "(482, 4)"
      ]
     },
     "execution_count": 74,
     "metadata": {},
     "output_type": "execute_result"
    }
   ],
   "source": [
    "pareto.shape"
   ]
  },
  {
   "cell_type": "code",
   "execution_count": 75,
   "metadata": {},
   "outputs": [],
   "source": [
    "#exporta o arquivo com as principais viagens\n",
    "pareto.to_csv(\"../data/interm/regra_pareto_selecionado.csv\", sep=',', encoding='latin-1')"
   ]
  },
  {
   "cell_type": "code",
   "execution_count": 76,
   "metadata": {},
   "outputs": [],
   "source": [
    "curva_pareto = update_data_fluxo[['rank', 'freq_acumulada']]"
   ]
  },
  {
   "cell_type": "code",
   "execution_count": 77,
   "metadata": {},
   "outputs": [],
   "source": [
    "#exporta dados para plotar curva de pareto\n",
    "curva_pareto.to_csv(\"../data/interm/plotar_curva_pareto.csv\", sep=',', encoding='latin-1', index=False)"
   ]
  },
  {
   "cell_type": "code",
   "execution_count": 78,
   "metadata": {},
   "outputs": [],
   "source": [
    "#exporta dado completo com as infos da regra de pareto\n",
    "update_data_fluxo.to_csv(\"../data/interm/dados_completo_curva_pareto.csv\", sep=',', encoding='latin-1', index=False)"
   ]
  },
  {
   "cell_type": "markdown",
   "metadata": {},
   "source": [
    "# ANÁLISE DO TEMPO DE VIAGEM"
   ]
  },
  {
   "cell_type": "code",
   "execution_count": 79,
   "metadata": {},
   "outputs": [
    {
     "data": {
      "text/html": [
       "<div>\n",
       "<style scoped>\n",
       "    .dataframe tbody tr th:only-of-type {\n",
       "        vertical-align: middle;\n",
       "    }\n",
       "\n",
       "    .dataframe tbody tr th {\n",
       "        vertical-align: top;\n",
       "    }\n",
       "\n",
       "    .dataframe thead th {\n",
       "        text-align: right;\n",
       "    }\n",
       "</style>\n",
       "<table border=\"1\" class=\"dataframe\">\n",
       "  <thead>\n",
       "    <tr style=\"text-align: right;\">\n",
       "      <th></th>\n",
       "      <th>Gênero do usuário</th>\n",
       "      <th>data nascimento</th>\n",
       "      <th>Cidade / Região Administrativa onde habita</th>\n",
       "      <th>Idade</th>\n",
       "      <th>Data</th>\n",
       "      <th>Horário de retirada</th>\n",
       "      <th>Horário de devolução</th>\n",
       "      <th>tempo de viagem</th>\n",
       "      <th>Estação de origem</th>\n",
       "      <th>% de retiradas/estação</th>\n",
       "      <th>Estação de Destino</th>\n",
       "      <th>% de devoluções/estação</th>\n",
       "      <th>faixa_etaria</th>\n",
       "    </tr>\n",
       "  </thead>\n",
       "  <tbody>\n",
       "    <tr>\n",
       "      <th>0</th>\n",
       "      <td>M</td>\n",
       "      <td>29/03/1980 00:00:00</td>\n",
       "      <td>NaN</td>\n",
       "      <td>38</td>\n",
       "      <td>2018-08-01</td>\n",
       "      <td>05:34:25</td>\n",
       "      <td>05:42:49</td>\n",
       "      <td>504.0</td>\n",
       "      <td>Rodoviária 2</td>\n",
       "      <td>0.044207</td>\n",
       "      <td>CNMP - Conselho Nacional do Ministério Público</td>\n",
       "      <td>0.008516</td>\n",
       "      <td>(36.0, 54.0]</td>\n",
       "    </tr>\n",
       "    <tr>\n",
       "      <th>1</th>\n",
       "      <td>M</td>\n",
       "      <td>1992-06-07 00:00:00</td>\n",
       "      <td>NaN</td>\n",
       "      <td>26</td>\n",
       "      <td>2018-08-01</td>\n",
       "      <td>05:39:51</td>\n",
       "      <td>05:44:13</td>\n",
       "      <td>262.0</td>\n",
       "      <td>Rodoviária</td>\n",
       "      <td>0.047566</td>\n",
       "      <td>Ministério dos Transportes</td>\n",
       "      <td>0.015021</td>\n",
       "      <td>(18.0, 36.0]</td>\n",
       "    </tr>\n",
       "    <tr>\n",
       "      <th>2</th>\n",
       "      <td>M</td>\n",
       "      <td>17/02/1975 00:00:00</td>\n",
       "      <td>NaN</td>\n",
       "      <td>43</td>\n",
       "      <td>2018-08-01</td>\n",
       "      <td>05:48:09</td>\n",
       "      <td>05:56:35</td>\n",
       "      <td>506.0</td>\n",
       "      <td>Rodoviária 2</td>\n",
       "      <td>0.044207</td>\n",
       "      <td>STF</td>\n",
       "      <td>0.016733</td>\n",
       "      <td>(36.0, 54.0]</td>\n",
       "    </tr>\n",
       "    <tr>\n",
       "      <th>3</th>\n",
       "      <td>M</td>\n",
       "      <td>1994-08-07 00:00:00</td>\n",
       "      <td>NaN</td>\n",
       "      <td>23</td>\n",
       "      <td>2018-08-01</td>\n",
       "      <td>05:49:58</td>\n",
       "      <td>06:12:44</td>\n",
       "      <td>1366.0</td>\n",
       "      <td>Rodoviária 2</td>\n",
       "      <td>0.044207</td>\n",
       "      <td>Ministério da Defesa</td>\n",
       "      <td>0.011319</td>\n",
       "      <td>(18.0, 36.0]</td>\n",
       "    </tr>\n",
       "    <tr>\n",
       "      <th>4</th>\n",
       "      <td>F</td>\n",
       "      <td>29/08/1973 00:00:00</td>\n",
       "      <td>NaN</td>\n",
       "      <td>44</td>\n",
       "      <td>2018-08-01</td>\n",
       "      <td>05:57:37</td>\n",
       "      <td>06:16:22</td>\n",
       "      <td>1125.0</td>\n",
       "      <td>Rodoviária</td>\n",
       "      <td>0.047566</td>\n",
       "      <td>Biblioteca Central</td>\n",
       "      <td>0.018444</td>\n",
       "      <td>(36.0, 54.0]</td>\n",
       "    </tr>\n",
       "  </tbody>\n",
       "</table>\n",
       "</div>"
      ],
      "text/plain": [
       "  Gênero do usuário      data nascimento  \\\n",
       "0                 M  29/03/1980 00:00:00   \n",
       "1                 M  1992-06-07 00:00:00   \n",
       "2                 M  17/02/1975 00:00:00   \n",
       "3                 M  1994-08-07 00:00:00   \n",
       "4                 F  29/08/1973 00:00:00   \n",
       "\n",
       "  Cidade / Região Administrativa onde habita  Idade       Data  \\\n",
       "0                                        NaN     38 2018-08-01   \n",
       "1                                        NaN     26 2018-08-01   \n",
       "2                                        NaN     43 2018-08-01   \n",
       "3                                        NaN     23 2018-08-01   \n",
       "4                                        NaN     44 2018-08-01   \n",
       "\n",
       "  Horário de retirada Horário de devolução  tempo de viagem Estação de origem  \\\n",
       "0            05:34:25             05:42:49            504.0      Rodoviária 2   \n",
       "1            05:39:51             05:44:13            262.0        Rodoviária   \n",
       "2            05:48:09             05:56:35            506.0      Rodoviária 2   \n",
       "3            05:49:58             06:12:44           1366.0      Rodoviária 2   \n",
       "4            05:57:37             06:16:22           1125.0        Rodoviária   \n",
       "\n",
       "   % de retiradas/estação                              Estação de Destino  \\\n",
       "0                0.044207  CNMP - Conselho Nacional do Ministério Público   \n",
       "1                0.047566                      Ministério dos Transportes   \n",
       "2                0.044207                                             STF   \n",
       "3                0.044207                            Ministério da Defesa   \n",
       "4                0.047566                              Biblioteca Central   \n",
       "\n",
       "   % de devoluções/estação  faixa_etaria  \n",
       "0                 0.008516  (36.0, 54.0]  \n",
       "1                 0.015021  (18.0, 36.0]  \n",
       "2                 0.016733  (36.0, 54.0]  \n",
       "3                 0.011319  (18.0, 36.0]  \n",
       "4                 0.018444  (36.0, 54.0]  "
      ]
     },
     "execution_count": 79,
     "metadata": {},
     "output_type": "execute_result"
    }
   ],
   "source": [
    "bikes.head()"
   ]
  },
  {
   "cell_type": "code",
   "execution_count": 80,
   "metadata": {},
   "outputs": [],
   "source": [
    "bikes.set_index('Data', inplace=True)"
   ]
  },
  {
   "cell_type": "code",
   "execution_count": 81,
   "metadata": {},
   "outputs": [
    {
     "name": "stdout",
     "output_type": "stream",
     "text": [
      "O tempo médio de percurso é de 18.21747443564114 minutos.\n"
     ]
    }
   ],
   "source": [
    "print(f\"O tempo médio de percurso é de {bikes['tempo de viagem'].mean()/60} minutos.\")"
   ]
  },
  {
   "cell_type": "code",
   "execution_count": 82,
   "metadata": {},
   "outputs": [],
   "source": [
    "tempo_viagem_estacao_origem = pd.DataFrame(bikes.groupby('Estação de origem')['tempo de viagem'].resample('W').mean())"
   ]
  },
  {
   "cell_type": "code",
   "execution_count": 83,
   "metadata": {},
   "outputs": [],
   "source": [
    "tempo_viagem_estacao_origem['diff_media_sec'] = tempo_viagem_estacao_origem['tempo de viagem']-bikes['tempo de viagem'].mean()"
   ]
  },
  {
   "cell_type": "code",
   "execution_count": 84,
   "metadata": {},
   "outputs": [],
   "source": [
    "tempo_viagem_estacao_origem['diff_media_min'] = round(tempo_viagem_estacao_origem['diff_media_sec']/60,2)"
   ]
  },
  {
   "cell_type": "code",
   "execution_count": 85,
   "metadata": {},
   "outputs": [
    {
     "data": {
      "text/html": [
       "<div>\n",
       "<style scoped>\n",
       "    .dataframe tbody tr th:only-of-type {\n",
       "        vertical-align: middle;\n",
       "    }\n",
       "\n",
       "    .dataframe tbody tr th {\n",
       "        vertical-align: top;\n",
       "    }\n",
       "\n",
       "    .dataframe thead th {\n",
       "        text-align: right;\n",
       "    }\n",
       "</style>\n",
       "<table border=\"1\" class=\"dataframe\">\n",
       "  <thead>\n",
       "    <tr style=\"text-align: right;\">\n",
       "      <th></th>\n",
       "      <th>tempo de viagem</th>\n",
       "      <th>diff_media_sec</th>\n",
       "      <th>diff_media_min</th>\n",
       "    </tr>\n",
       "  </thead>\n",
       "  <tbody>\n",
       "    <tr>\n",
       "      <th>count</th>\n",
       "      <td>237.000000</td>\n",
       "      <td>237.000000</td>\n",
       "      <td>237.000000</td>\n",
       "    </tr>\n",
       "    <tr>\n",
       "      <th>mean</th>\n",
       "      <td>1113.627418</td>\n",
       "      <td>20.578951</td>\n",
       "      <td>0.343165</td>\n",
       "    </tr>\n",
       "    <tr>\n",
       "      <th>std</th>\n",
       "      <td>254.800624</td>\n",
       "      <td>254.800624</td>\n",
       "      <td>4.246386</td>\n",
       "    </tr>\n",
       "    <tr>\n",
       "      <th>min</th>\n",
       "      <td>686.862069</td>\n",
       "      <td>-406.186397</td>\n",
       "      <td>-6.770000</td>\n",
       "    </tr>\n",
       "    <tr>\n",
       "      <th>25%</th>\n",
       "      <td>956.634731</td>\n",
       "      <td>-136.413736</td>\n",
       "      <td>-2.270000</td>\n",
       "    </tr>\n",
       "    <tr>\n",
       "      <th>50%</th>\n",
       "      <td>1053.287625</td>\n",
       "      <td>-39.760841</td>\n",
       "      <td>-0.660000</td>\n",
       "    </tr>\n",
       "    <tr>\n",
       "      <th>75%</th>\n",
       "      <td>1204.357692</td>\n",
       "      <td>111.309226</td>\n",
       "      <td>1.860000</td>\n",
       "    </tr>\n",
       "    <tr>\n",
       "      <th>max</th>\n",
       "      <td>2193.031746</td>\n",
       "      <td>1099.983280</td>\n",
       "      <td>18.330000</td>\n",
       "    </tr>\n",
       "  </tbody>\n",
       "</table>\n",
       "</div>"
      ],
      "text/plain": [
       "       tempo de viagem  diff_media_sec  diff_media_min\n",
       "count       237.000000      237.000000      237.000000\n",
       "mean       1113.627418       20.578951        0.343165\n",
       "std         254.800624      254.800624        4.246386\n",
       "min         686.862069     -406.186397       -6.770000\n",
       "25%         956.634731     -136.413736       -2.270000\n",
       "50%        1053.287625      -39.760841       -0.660000\n",
       "75%        1204.357692      111.309226        1.860000\n",
       "max        2193.031746     1099.983280       18.330000"
      ]
     },
     "execution_count": 85,
     "metadata": {},
     "output_type": "execute_result"
    }
   ],
   "source": [
    "tempo_viagem_estacao_origem.describe()"
   ]
  },
  {
   "cell_type": "code",
   "execution_count": 86,
   "metadata": {},
   "outputs": [],
   "source": [
    "#exporta dados para plotar curva de pareto\n",
    "tempo_viagem_estacao_origem.to_csv(\"../data/interm/analise_tempo_medio.csv\", sep=',', encoding='latin-1', index=True)"
   ]
  },
  {
   "cell_type": "markdown",
   "metadata": {},
   "source": [
    "# TEMPO DE PERCURSO X FAIXA DE IDADE"
   ]
  },
  {
   "cell_type": "code",
   "execution_count": 87,
   "metadata": {},
   "outputs": [
    {
     "data": {
      "text/plain": [
       "[(36.0, 54.0], (18.0, 36.0], (54.0, 72.0], (0.0, 18.0], NaN, (72.0, 90.0]]\n",
       "Categories (5, interval[float64]): [(0.0, 18.0] < (18.0, 36.0] < (36.0, 54.0] < (54.0, 72.0] < (72.0, 90.0]]"
      ]
     },
     "execution_count": 87,
     "metadata": {},
     "output_type": "execute_result"
    }
   ],
   "source": [
    "bikes['faixa_etaria'].unique()"
   ]
  },
  {
   "cell_type": "code",
   "execution_count": 88,
   "metadata": {},
   "outputs": [],
   "source": [
    "faixa_2_idade = bikes[(bikes['Idade']  >54) & (bikes['Idade']  <= 72) ]"
   ]
  },
  {
   "cell_type": "code",
   "execution_count": 89,
   "metadata": {},
   "outputs": [],
   "source": [
    "faixa_1_idade = bikes[(bikes['Idade']  > 18 ) & (bikes['Idade']  <= 36) ]"
   ]
  },
  {
   "cell_type": "code",
   "execution_count": 90,
   "metadata": {},
   "outputs": [],
   "source": [
    "media_tempo_viagem_18_36 = pd.DataFrame(faixa_1_idade.groupby(['Estação de origem'])['tempo de viagem'].mean())"
   ]
  },
  {
   "cell_type": "code",
   "execution_count": 91,
   "metadata": {},
   "outputs": [],
   "source": [
    "media_tempo_viagem_18_36.columns = ['media_viagem_13_36_anos']"
   ]
  },
  {
   "cell_type": "code",
   "execution_count": 92,
   "metadata": {},
   "outputs": [],
   "source": [
    "media_tempo_viagem_54_72 = pd.DataFrame(faixa_2_idade.groupby(['Estação de origem'])['tempo de viagem'].mean())"
   ]
  },
  {
   "cell_type": "code",
   "execution_count": 93,
   "metadata": {},
   "outputs": [],
   "source": [
    "media_tempo_viagem_54_72.columns = ['media_viagem_54_72_anos']"
   ]
  },
  {
   "cell_type": "code",
   "execution_count": 94,
   "metadata": {},
   "outputs": [
    {
     "data": {
      "text/html": [
       "<div>\n",
       "<style scoped>\n",
       "    .dataframe tbody tr th:only-of-type {\n",
       "        vertical-align: middle;\n",
       "    }\n",
       "\n",
       "    .dataframe tbody tr th {\n",
       "        vertical-align: top;\n",
       "    }\n",
       "\n",
       "    .dataframe thead th {\n",
       "        text-align: right;\n",
       "    }\n",
       "</style>\n",
       "<table border=\"1\" class=\"dataframe\">\n",
       "  <thead>\n",
       "    <tr style=\"text-align: right;\">\n",
       "      <th></th>\n",
       "      <th>media_viagem_54_72_anos</th>\n",
       "    </tr>\n",
       "    <tr>\n",
       "      <th>Estação de origem</th>\n",
       "      <th></th>\n",
       "    </tr>\n",
       "  </thead>\n",
       "  <tbody>\n",
       "    <tr>\n",
       "      <th>102 Sul</th>\n",
       "      <td>1092.500000</td>\n",
       "    </tr>\n",
       "    <tr>\n",
       "      <th>Banco Central</th>\n",
       "      <td>841.000000</td>\n",
       "    </tr>\n",
       "    <tr>\n",
       "      <th>Biblioteca Central</th>\n",
       "      <td>934.000000</td>\n",
       "    </tr>\n",
       "    <tr>\n",
       "      <th>Brasil 21</th>\n",
       "      <td>1979.800000</td>\n",
       "    </tr>\n",
       "    <tr>\n",
       "      <th>Brasília Shopping</th>\n",
       "      <td>1192.055556</td>\n",
       "    </tr>\n",
       "  </tbody>\n",
       "</table>\n",
       "</div>"
      ],
      "text/plain": [
       "                    media_viagem_54_72_anos\n",
       "Estação de origem                          \n",
       "102 Sul                         1092.500000\n",
       "Banco Central                    841.000000\n",
       "Biblioteca Central               934.000000\n",
       "Brasil 21                       1979.800000\n",
       "Brasília Shopping               1192.055556"
      ]
     },
     "execution_count": 94,
     "metadata": {},
     "output_type": "execute_result"
    }
   ],
   "source": [
    "media_tempo_viagem_54_72.head()"
   ]
  },
  {
   "cell_type": "code",
   "execution_count": 95,
   "metadata": {},
   "outputs": [
    {
     "data": {
      "text/html": [
       "<div>\n",
       "<style scoped>\n",
       "    .dataframe tbody tr th:only-of-type {\n",
       "        vertical-align: middle;\n",
       "    }\n",
       "\n",
       "    .dataframe tbody tr th {\n",
       "        vertical-align: top;\n",
       "    }\n",
       "\n",
       "    .dataframe thead th {\n",
       "        text-align: right;\n",
       "    }\n",
       "</style>\n",
       "<table border=\"1\" class=\"dataframe\">\n",
       "  <thead>\n",
       "    <tr style=\"text-align: right;\">\n",
       "      <th></th>\n",
       "      <th>media_viagem_13_36_anos</th>\n",
       "    </tr>\n",
       "    <tr>\n",
       "      <th>Estação de origem</th>\n",
       "      <th></th>\n",
       "    </tr>\n",
       "  </thead>\n",
       "  <tbody>\n",
       "    <tr>\n",
       "      <th>102 Sul</th>\n",
       "      <td>1073.009843</td>\n",
       "    </tr>\n",
       "    <tr>\n",
       "      <th>Banco Central</th>\n",
       "      <td>994.331579</td>\n",
       "    </tr>\n",
       "    <tr>\n",
       "      <th>Biblioteca Central</th>\n",
       "      <td>1082.811765</td>\n",
       "    </tr>\n",
       "    <tr>\n",
       "      <th>Brasil 21</th>\n",
       "      <td>1818.118396</td>\n",
       "    </tr>\n",
       "    <tr>\n",
       "      <th>Brasília Shopping</th>\n",
       "      <td>1063.005474</td>\n",
       "    </tr>\n",
       "  </tbody>\n",
       "</table>\n",
       "</div>"
      ],
      "text/plain": [
       "                    media_viagem_13_36_anos\n",
       "Estação de origem                          \n",
       "102 Sul                         1073.009843\n",
       "Banco Central                    994.331579\n",
       "Biblioteca Central              1082.811765\n",
       "Brasil 21                       1818.118396\n",
       "Brasília Shopping               1063.005474"
      ]
     },
     "execution_count": 95,
     "metadata": {},
     "output_type": "execute_result"
    }
   ],
   "source": [
    "media_tempo_viagem_18_36.head()"
   ]
  },
  {
   "cell_type": "markdown",
   "metadata": {},
   "source": [
    "# merge dataframes"
   ]
  },
  {
   "cell_type": "code",
   "execution_count": 96,
   "metadata": {},
   "outputs": [],
   "source": [
    "merge_diff_idade = media_tempo_viagem_18_36.merge(media_tempo_viagem_54_72, how='inner', left_index=True, right_index=True)"
   ]
  },
  {
   "cell_type": "code",
   "execution_count": 97,
   "metadata": {},
   "outputs": [],
   "source": [
    "merge_diff_idade['diff_medias_idades_seconds'] = merge_diff_idade['media_viagem_54_72_anos']-merge_diff_idade['media_viagem_13_36_anos']"
   ]
  },
  {
   "cell_type": "code",
   "execution_count": 98,
   "metadata": {},
   "outputs": [],
   "source": [
    "merge_diff_idade.sort_values('diff_medias_idades_seconds', ascending=False, inplace=True)"
   ]
  },
  {
   "cell_type": "code",
   "execution_count": 99,
   "metadata": {},
   "outputs": [],
   "source": [
    "top3_diff = merge_diff_idade.head(3)"
   ]
  },
  {
   "cell_type": "code",
   "execution_count": 100,
   "metadata": {},
   "outputs": [],
   "source": [
    "last3_diff = merge_diff_idade.tail(3)"
   ]
  },
  {
   "cell_type": "code",
   "execution_count": 101,
   "metadata": {},
   "outputs": [],
   "source": [
    "extremes_mean_diff = pd.concat([top3_diff, last3_diff])"
   ]
  },
  {
   "cell_type": "code",
   "execution_count": 102,
   "metadata": {},
   "outputs": [],
   "source": [
    "extremes_mean_diff['diff_medias_idades_minutes'] = round(extremes_mean_diff['diff_medias_idades_seconds']/60,2)"
   ]
  },
  {
   "cell_type": "code",
   "execution_count": 103,
   "metadata": {},
   "outputs": [
    {
     "data": {
      "text/html": [
       "<div>\n",
       "<style scoped>\n",
       "    .dataframe tbody tr th:only-of-type {\n",
       "        vertical-align: middle;\n",
       "    }\n",
       "\n",
       "    .dataframe tbody tr th {\n",
       "        vertical-align: top;\n",
       "    }\n",
       "\n",
       "    .dataframe thead th {\n",
       "        text-align: right;\n",
       "    }\n",
       "</style>\n",
       "<table border=\"1\" class=\"dataframe\">\n",
       "  <thead>\n",
       "    <tr style=\"text-align: right;\">\n",
       "      <th></th>\n",
       "      <th>media_viagem_13_36_anos</th>\n",
       "      <th>media_viagem_54_72_anos</th>\n",
       "      <th>diff_medias_idades_seconds</th>\n",
       "      <th>diff_medias_idades_minutes</th>\n",
       "    </tr>\n",
       "    <tr>\n",
       "      <th>Estação de origem</th>\n",
       "      <th></th>\n",
       "      <th></th>\n",
       "      <th></th>\n",
       "      <th></th>\n",
       "    </tr>\n",
       "  </thead>\n",
       "  <tbody>\n",
       "    <tr>\n",
       "      <th>Praça Buriti</th>\n",
       "      <td>1125.227378</td>\n",
       "      <td>1938.363636</td>\n",
       "      <td>813.136258</td>\n",
       "      <td>13.55</td>\n",
       "    </tr>\n",
       "    <tr>\n",
       "      <th>Memorial JK</th>\n",
       "      <td>1388.977929</td>\n",
       "      <td>2181.888889</td>\n",
       "      <td>792.910960</td>\n",
       "      <td>13.22</td>\n",
       "    </tr>\n",
       "    <tr>\n",
       "      <th>Deck Sul</th>\n",
       "      <td>1914.821839</td>\n",
       "      <td>2600.666667</td>\n",
       "      <td>685.844828</td>\n",
       "      <td>11.43</td>\n",
       "    </tr>\n",
       "    <tr>\n",
       "      <th>Deck Sul Kids</th>\n",
       "      <td>1923.870504</td>\n",
       "      <td>1545.000000</td>\n",
       "      <td>-378.870504</td>\n",
       "      <td>-6.31</td>\n",
       "    </tr>\n",
       "    <tr>\n",
       "      <th>Centro de Convenções</th>\n",
       "      <td>1273.829060</td>\n",
       "      <td>845.222222</td>\n",
       "      <td>-428.606838</td>\n",
       "      <td>-7.14</td>\n",
       "    </tr>\n",
       "    <tr>\n",
       "      <th>Ministério do Planejamento</th>\n",
       "      <td>767.448560</td>\n",
       "      <td>328.000000</td>\n",
       "      <td>-439.448560</td>\n",
       "      <td>-7.32</td>\n",
       "    </tr>\n",
       "  </tbody>\n",
       "</table>\n",
       "</div>"
      ],
      "text/plain": [
       "                            media_viagem_13_36_anos  media_viagem_54_72_anos  \\\n",
       "Estação de origem                                                              \n",
       "Praça Buriti                            1125.227378              1938.363636   \n",
       "Memorial JK                             1388.977929              2181.888889   \n",
       "Deck Sul                                1914.821839              2600.666667   \n",
       "Deck Sul Kids                           1923.870504              1545.000000   \n",
       "Centro de Convenções                    1273.829060               845.222222   \n",
       "Ministério do Planejamento               767.448560               328.000000   \n",
       "\n",
       "                            diff_medias_idades_seconds  \\\n",
       "Estação de origem                                        \n",
       "Praça Buriti                                813.136258   \n",
       "Memorial JK                                 792.910960   \n",
       "Deck Sul                                    685.844828   \n",
       "Deck Sul Kids                              -378.870504   \n",
       "Centro de Convenções                       -428.606838   \n",
       "Ministério do Planejamento                 -439.448560   \n",
       "\n",
       "                            diff_medias_idades_minutes  \n",
       "Estação de origem                                       \n",
       "Praça Buriti                                     13.55  \n",
       "Memorial JK                                      13.22  \n",
       "Deck Sul                                         11.43  \n",
       "Deck Sul Kids                                    -6.31  \n",
       "Centro de Convenções                             -7.14  \n",
       "Ministério do Planejamento                       -7.32  "
      ]
     },
     "execution_count": 103,
     "metadata": {},
     "output_type": "execute_result"
    }
   ],
   "source": [
    "extremes_mean_diff"
   ]
  },
  {
   "cell_type": "code",
   "execution_count": 104,
   "metadata": {},
   "outputs": [],
   "source": [
    "extremes_mean_diff.reset_index(inplace=True)"
   ]
  },
  {
   "cell_type": "code",
   "execution_count": 105,
   "metadata": {},
   "outputs": [],
   "source": [
    "extremes_mean_diff = extremes_mean_diff[['Estação de origem', 'diff_medias_idades_minutes']]"
   ]
  },
  {
   "cell_type": "code",
   "execution_count": 106,
   "metadata": {},
   "outputs": [],
   "source": [
    "extremes_mean_diff.columns = ['origem', 'diferença']"
   ]
  },
  {
   "cell_type": "code",
   "execution_count": 108,
   "metadata": {},
   "outputs": [],
   "source": [
    "extremes_mean_diff.to_csv(\"../data/interm/tempo_percurso_diff_idades.csv\", sep=',', encoding='latin-1', index=False)"
   ]
  }
 ],
 "metadata": {
  "kernelspec": {
   "display_name": "Python 3",
   "language": "python",
   "name": "python3"
  },
  "language_info": {
   "codemirror_mode": {
    "name": "ipython",
    "version": 3
   },
   "file_extension": ".py",
   "mimetype": "text/x-python",
   "name": "python",
   "nbconvert_exporter": "python",
   "pygments_lexer": "ipython3",
   "version": "3.6.3"
  }
 },
 "nbformat": 4,
 "nbformat_minor": 2
}
