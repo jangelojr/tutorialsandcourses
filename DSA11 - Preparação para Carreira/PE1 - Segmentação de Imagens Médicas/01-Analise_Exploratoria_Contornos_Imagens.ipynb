{
 "cells": [
  {
   "cell_type": "markdown",
   "metadata": {},
   "source": [
    "# <font color='blue'>Data Science Academy - Projeto Especial 1</font>\n",
    "# <font color='blue'>Segmentação de Imagens Médicas com Deep Learning</font>\n",
    "# <font color='blue'>Contornos das Imagens</font>"
   ]
  },
  {
   "cell_type": "markdown",
   "metadata": {},
   "source": [
    "Referências:\n",
    "\n",
    "Detection and segmentation of the Left Ventricle in Cardiac MRI using Deep Learning\n",
    "https://arxiv.org/abs/1801.02171\n",
    "\n",
    "A Combined Deep-Learning and Deformable-Model Approach to Fully Automatic Segmentation of the Left Ventricle in Cardiac MRI\n",
    "https://arxiv.org/abs/1512.07951\n"
   ]
  },
  {
   "cell_type": "code",
   "execution_count": null,
   "metadata": {
    "ExecuteTime": {
     "end_time": "2017-11-30T09:53:07.286174Z",
     "start_time": "2017-11-30T09:53:06.600094Z"
    },
    "collapsed": true
   },
   "outputs": [],
   "source": [
    "import cv2\n",
    "import matplotlib.pyplot as plt\n",
    "import numpy as np\n",
    "from matplotlib.path import Path\n",
    "import dicom\n",
    "import os\n",
    "import glob\n",
    "from matplotlib.path import Path\n",
    "import matplotlib.patches as patches\n",
    "%matplotlib inline"
   ]
  },
  {
   "cell_type": "markdown",
   "metadata": {},
   "source": [
    "### Abrindo Uma Imagem de Treinamento"
   ]
  },
  {
   "cell_type": "code",
   "execution_count": null,
   "metadata": {
    "ExecuteTime": {
     "end_time": "2017-11-10T13:19:59.303438Z",
     "start_time": "2017-11-10T13:19:59.300840Z"
    },
    "collapsed": true
   },
   "outputs": [],
   "source": [
    "folder_path = './Data/challenge_training/SC-HF-I-1/'"
   ]
  },
  {
   "cell_type": "code",
   "execution_count": null,
   "metadata": {
    "ExecuteTime": {
     "end_time": "2017-11-10T13:19:59.674231Z",
     "start_time": "2017-11-10T13:19:59.666478Z"
    },
    "collapsed": true
   },
   "outputs": [],
   "source": [
    "lstFilesDCM = []  # create an empty list\n",
    "for dirName, subdirList, fileList in os.walk(folder_path):\n",
    "    for filename in fileList:\n",
    "        if \".dcm\" in filename.lower():  # check whether the file's DICOM\n",
    "            lstFilesDCM.append(os.path.join(dirName,filename))"
   ]
  },
  {
   "cell_type": "code",
   "execution_count": null,
   "metadata": {
    "ExecuteTime": {
     "end_time": "2017-11-10T13:20:00.028585Z",
     "start_time": "2017-11-10T13:20:00.018588Z"
    },
    "collapsed": true
   },
   "outputs": [],
   "source": [
    "# Arquivo de Referência\n",
    "RefDs = dicom.read_file(lstFilesDCM[0])\n",
    "\n",
    "# Carrega as dimensões base\n",
    "ConstPixelDims = (int(RefDs.Rows), int(RefDs.Columns), len(lstFilesDCM))\n",
    "ConstPixelSpacing = (float(RefDs.PixelSpacing[0]), float(RefDs.PixelSpacing[1]), float(RefDs.SliceThickness))"
   ]
  },
  {
   "cell_type": "code",
   "execution_count": null,
   "metadata": {
    "ExecuteTime": {
     "end_time": "2017-11-10T13:20:01.737233Z",
     "start_time": "2017-11-10T13:20:01.732474Z"
    },
    "collapsed": true
   },
   "outputs": [],
   "source": [
    "x = np.arange(0.0, (ConstPixelDims[0]+1)*ConstPixelSpacing[0], ConstPixelSpacing[0])\n",
    "y = np.arange(0.0, (ConstPixelDims[1]+1)*ConstPixelSpacing[1], ConstPixelSpacing[1])\n",
    "z = np.arange(0.0, (ConstPixelDims[2]+1)*ConstPixelSpacing[2], ConstPixelSpacing[2])"
   ]
  },
  {
   "cell_type": "code",
   "execution_count": null,
   "metadata": {
    "ExecuteTime": {
     "end_time": "2017-11-10T13:20:02.778437Z",
     "start_time": "2017-11-10T13:20:02.692616Z"
    },
    "collapsed": true
   },
   "outputs": [],
   "source": [
    "# Array baseado em 'ConstPixelDims'\n",
    "ArrayDicom = np.zeros(ConstPixelDims, dtype=RefDs.pixel_array.dtype)\n",
    "\n",
    "# Percorrer todos os arquivos DICOM\n",
    "# todos os arquivos precisam ter a mesma forma\n",
    "for filenameDCM in lstFilesDCM[:9]:\n",
    "    ds = dicom.read_file(filenameDCM)\n",
    "    # Armazenar os dados da imagem bruta\n",
    "    ArrayDicom[:, :, lstFilesDCM.index(filenameDCM)] = ds.pixel_array  "
   ]
  },
  {
   "cell_type": "code",
   "execution_count": null,
   "metadata": {
    "ExecuteTime": {
     "end_time": "2017-11-10T13:20:12.866217Z",
     "start_time": "2017-11-10T13:20:12.059256Z"
    }
   },
   "outputs": [],
   "source": [
    "plt.figure(dpi=300)\n",
    "plt.axes().set_aspect('equal', 'datalim')\n",
    "plt.set_cmap(plt.gray())\n",
    "plt.pcolormesh(x, y, np.flipud(ArrayDicom[:, :, 8]))"
   ]
  },
  {
   "cell_type": "code",
   "execution_count": null,
   "metadata": {
    "ExecuteTime": {
     "end_time": "2017-11-10T14:00:16.062012Z",
     "start_time": "2017-11-10T14:00:15.891582Z"
    }
   },
   "outputs": [],
   "source": [
    "image_part = dicom.read_file('./Data/challenge_training/\\\n",
    "SC-HF-I-1/IM-0002-0048.dcm').pixel_array  \n",
    "plt.imshow(image_part)"
   ]
  },
  {
   "cell_type": "markdown",
   "metadata": {
    "ExecuteTime": {
     "end_time": "2017-11-09T15:11:13.907498Z",
     "start_time": "2017-11-09T15:11:13.903124Z"
    }
   },
   "source": [
    "### Abrindo um Contorno de Treinamento"
   ]
  },
  {
   "cell_type": "code",
   "execution_count": null,
   "metadata": {
    "ExecuteTime": {
     "end_time": "2017-11-30T09:53:12.021465Z",
     "start_time": "2017-11-30T09:53:12.018364Z"
    },
    "collapsed": true
   },
   "outputs": [],
   "source": [
    "folder_text_path = './Data/Sunnybrook Cardiac MR Database ContoursPart3/\\\n",
    "TrainingDataContours/SC-HF-I-01/contours-manual/IRCCI-expert/'\n",
    "text_arr = glob.glob(folder_text_path + '*')"
   ]
  },
  {
   "cell_type": "code",
   "execution_count": null,
   "metadata": {
    "ExecuteTime": {
     "end_time": "2017-11-30T09:53:12.676194Z",
     "start_time": "2017-11-30T09:53:12.673608Z"
    },
    "collapsed": true
   },
   "outputs": [],
   "source": [
    "text_path = './Data/Sunnybrook Cardiac MR Database ContoursPart3/\\\n",
    "TrainingDataContours/SC-HF-I-01/contours-manual/IRCCI-expert/\\\n",
    "IM-0001-0048-icontour-manual.txt'"
   ]
  },
  {
   "cell_type": "code",
   "execution_count": null,
   "metadata": {
    "ExecuteTime": {
     "end_time": "2017-11-30T10:13:35.736530Z",
     "start_time": "2017-11-30T10:13:35.727632Z"
    },
    "collapsed": true
   },
   "outputs": [],
   "source": [
    "n = 28\n",
    "folder = 'SC-N-11'\n",
    "pic_arr = [k for k in glob.glob(\"./Data/challenge_online/challenge_online/%s/*\" % folder) if '00' + str(n) in k]\n",
    "text_path = './Data/Sunnybrook Cardiac MR Database ContoursPart1/\\\n",
    "OnlineDataContours/%s/contours-manual/IRCCI-expert/\\\n",
    "IM-0001-00%s-icontour-manual.txt' % (folder,str(n))"
   ]
  },
  {
   "cell_type": "code",
   "execution_count": null,
   "metadata": {
    "ExecuteTime": {
     "end_time": "2017-11-30T10:13:38.268531Z",
     "start_time": "2017-11-30T10:13:36.823937Z"
    },
    "scrolled": false
   },
   "outputs": [],
   "source": [
    "for pic_path in pic_arr:\n",
    "    contour = []\n",
    "    file = open(text_path, 'r') \n",
    "    for line in file: \n",
    "        contour.append(tuple(map(float, line.split())))\n",
    "    contour = np.array(contour)\n",
    "\n",
    "    image_part = dicom.read_file(pic_path).pixel_array  \n",
    "    plt.figure(figsize=(10,10))\n",
    "    plt.imshow(image_part, cmap='gray')\n",
    "    plt.plot(*zip(*contour), )\n",
    "    plt.title(pic_path.split('/')[5])\n",
    "    plt.show()"
   ]
  },
  {
   "cell_type": "markdown",
   "metadata": {
    "heading_collapsed": true
   },
   "source": [
    "### Plot do ROI de um Contorno"
   ]
  },
  {
   "cell_type": "code",
   "execution_count": null,
   "metadata": {
    "ExecuteTime": {
     "end_time": "2017-11-25T17:02:56.692663Z",
     "start_time": "2017-11-25T17:02:56.676325Z"
    },
    "collapsed": true,
    "hidden": true,
    "scrolled": true
   },
   "outputs": [],
   "source": [
    "case = 'SC-HF-NI-36'\n",
    "series = {'SC-N-40' : '0944',\n",
    "          'SC-N-03' : '0915',\n",
    "          'SC-N-02' : '0898',\n",
    "          'SC-HYP-40' : '0755',\n",
    "          'SC-HYP-38' : '0734',\n",
    "          'SC-HYP-03' : '0650',\n",
    "          'SC-HYP-01' : '0550',\n",
    "          'SC-HF-NI-36' : '0474',\n",
    "          'SC-HF-NI-34' : '0446',\n",
    "          'SC-HF-NI-04' : '0501',\n",
    "          'SC-HF-NI-03' : '0379',\n",
    "          'SC-HF-I-40' : '0134',\n",
    "          'SC-HF-I-04' : '0116',\n",
    "          'SC-HF-I-02' : '0106',\n",
    "          'SC-HF-I-01' : '0004'}\n",
    "\n",
    "image_path_base = './Data/challenge_training/%s/IM-%s' % (case, series[case])\n",
    "contour_path_base = './Data/Sunnybrook Cardiac MR Database ContoursPart3/\\\n",
    "TrainingDataContours/%s/contours-manual/IRCCI-expert/' % case\n",
    "contours_list = glob.glob(contour_path_base + '*')\n",
    "contours_list_series = [k.split('/')[7].split('-')[2] for k in contours_list]\n",
    "contour_chosen = np.random.choice(contours_list_series)\n",
    "idx_contour = contours_list_series.index(contour_chosen)\n",
    "contour_path = contours_list[idx_contour]\n",
    "image_path = image_path_base + '-%s.dcm' % contour_chosen"
   ]
  },
  {
   "cell_type": "code",
   "execution_count": null,
   "metadata": {
    "ExecuteTime": {
     "end_time": "2017-11-25T17:02:58.188501Z",
     "start_time": "2017-11-25T17:02:57.307782Z"
    },
    "hidden": true,
    "scrolled": false
   },
   "outputs": [],
   "source": [
    "image_part = dicom.read_file(image_path).pixel_array  \n",
    "contour = []\n",
    "file = open(contour_path, 'r') \n",
    "for line in file: \n",
    "    contour.append(tuple(map(float, line.split())))\n",
    "contour = np.array(contour)\n",
    "\n",
    "# ROI \n",
    "X_min, Y_min = contour[:,0].min(), contour[:,1].min()\n",
    "X_max, Y_max = contour[:,0].max(), contour[:,1].max()\n",
    "w = contour[:,0].max() - contour[:,0].min() \n",
    "h = contour[:,1].max() - contour[:,1].min()\n",
    "\n",
    "# Mask\n",
    "mask_roi = np.zeros(image_part.shape)\n",
    "mask_roi[int(contour[:,1].min()):int(contour[:,1].max()), \n",
    "         int(contour[:,0].min()):int(contour[:,0].max())] = 1.0\n",
    "\n",
    "# Canvas\n",
    "x, y = np.meshgrid(np.arange(256), np.arange(256)) \n",
    "x, y = x.flatten(), y.flatten()\n",
    "points = np.vstack((x,y)).T \n",
    "p = Path(contour) # make a polygon\n",
    "grid = p.contains_points(points)\n",
    "mask_contour = grid.reshape(256,256)\n",
    "  \n",
    "fig, ax = plt.subplots(nrows=2, ncols=2, figsize=(15, 15))\n",
    "ax[0, 0].imshow(image_part, cmap='gray')\n",
    "ax[0, 0].plot(*zip(*contour))\n",
    "rect = patches.Rectangle((X_min,Y_min), w, h, linewidth=1, edgecolor='r', facecolor='none')\n",
    "ax[0, 0].add_patch(rect)\n",
    "\n",
    "ax[1, 0].imshow(mask_roi, cmap='gray')\n",
    "ax[1, 1].imshow(mask_contour*1, cmap='gray')\n",
    "ax[0, 1].imshow(image_part, cmap='gray')\n",
    "ax[0, 1].plot(*zip(*contour))\n",
    "ax[0, 1].set_xlim(int(contour[:,0].min()), int(contour[:,0].max()))\n",
    "t = ax[0, 1].set_ylim(int(contour[:,1].min()), int(contour[:,1].max()))"
   ]
  },
  {
   "cell_type": "code",
   "execution_count": null,
   "metadata": {
    "ExecuteTime": {
     "end_time": "2017-11-25T17:08:36.162637Z",
     "start_time": "2017-11-25T17:08:36.158550Z"
    },
    "hidden": true
   },
   "outputs": [],
   "source": [
    "image_part.shape"
   ]
  },
  {
   "cell_type": "code",
   "execution_count": null,
   "metadata": {
    "ExecuteTime": {
     "end_time": "2017-11-25T17:30:54.846625Z",
     "start_time": "2017-11-25T17:30:54.679527Z"
    },
    "hidden": true
   },
   "outputs": [],
   "source": [
    "# Plot\n",
    "f, ax = plt.subplots()\n",
    "ax.imshow(image_part, cmap='gist_yarg')\n",
    "#plt.plot(*zip(*contour))\n",
    "rect = patches.Rectangle(\n",
    "        (X_min,Y_min),\n",
    "        w, h,\n",
    "        linewidth=1, edgecolor='r', facecolor='none')\n",
    "ax.add_patch(rect)"
   ]
  },
  {
   "cell_type": "code",
   "execution_count": null,
   "metadata": {
    "ExecuteTime": {
     "end_time": "2017-11-25T17:03:51.144111Z",
     "start_time": "2017-11-25T17:03:51.129636Z"
    },
    "hidden": true
   },
   "outputs": [],
   "source": [
    "cv2.imwrite('Resultado/images/input_image.png', image_part)"
   ]
  },
  {
   "cell_type": "markdown",
   "metadata": {
    "hidden": true
   },
   "source": [
    "# Fim"
   ]
  }
 ],
 "metadata": {
  "kernelspec": {
   "display_name": "Python 3",
   "language": "python",
   "name": "python3"
  },
  "language_info": {
   "codemirror_mode": {
    "name": "ipython",
    "version": 3
   },
   "file_extension": ".py",
   "mimetype": "text/x-python",
   "name": "python",
   "nbconvert_exporter": "python",
   "pygments_lexer": "ipython3",
   "version": "3.7.3"
  },
  "toc": {
   "nav_menu": {
    "height": "66px",
    "width": "252px"
   },
   "number_sections": true,
   "sideBar": true,
   "skip_h1_title": false,
   "toc_cell": false,
   "toc_position": {},
   "toc_section_display": "block",
   "toc_window_display": false
  }
 },
 "nbformat": 4,
 "nbformat_minor": 2
}
