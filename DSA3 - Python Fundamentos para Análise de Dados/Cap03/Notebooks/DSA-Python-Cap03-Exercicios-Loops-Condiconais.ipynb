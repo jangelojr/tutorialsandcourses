{
 "cells": [
  {
   "cell_type": "markdown",
   "metadata": {},
   "source": [
    "# <font color='blue'>Data Science Academy - Python Fundamentos - Capítulo 3</font>\n",
    "\n",
    "## Download: http://github.com/dsacademybr"
   ]
  },
  {
   "cell_type": "code",
   "execution_count": 1,
   "metadata": {},
   "outputs": [
    {
     "name": "stdout",
     "output_type": "stream",
     "text": [
      "462\n"
     ]
    }
   ],
   "source": [
    "listaB = [32,53,85,10,15,17,19]\n",
    "soma = 0\n",
    "for i in listaB:\n",
    "    double_i = i * 2\n",
    "    soma += double_i\n",
    "\n",
    "print(soma)"
   ]
  },
  {
   "cell_type": "code",
   "execution_count": 6,
   "metadata": {},
   "outputs": [
    {
     "name": "stdout",
     "output_type": "stream",
     "text": [
      "0 B\n",
      "1 A\n",
      "2 T\n",
      "3 A\n",
      "4 T\n",
      "5 A\n"
     ]
    },
    {
     "data": {
      "text/plain": [
       "[1, 3, 5]"
      ]
     },
     "execution_count": 6,
     "metadata": {},
     "output_type": "execute_result"
    }
   ],
   "source": [
    "minhaLista = [\"B\", \"A\", \"T\", \"A\", \"T\", \"A\"]\n",
    "meuIndice = []\n",
    "for indice, valor in enumerate(minhaLista):\n",
    "    print (indice, valor)\n",
    "    if valor == \"A\":\n",
    "        meuIndice.append(indice)\n",
    "        \n",
    "meuIndice"
   ]
  },
  {
   "cell_type": "markdown",
   "metadata": {},
   "source": [
    "## Exercícios - Loops e Condiconais"
   ]
  },
  {
   "cell_type": "code",
   "execution_count": null,
   "metadata": {},
   "outputs": [],
   "source": [
    "# Exercício 1 - Crie uma estrutura que pergunte ao usuário qual o dia da semana. Se o dia for igual a Domingo ou \n",
    "# igual a sábado, imprima na tela \"Hoje é dia de descanso\", caso contrário imprima na tela \"Você precisa trabalhar!\"\n",
    "diaDaSemana = input('Digite o dia da semana: ')\n",
    "if (diaDaSemana == 'Sábado') or (diaDaSemana == 'Domingo'):\n",
    "    print('Hoje é dia de descanso')\n",
    "else:\n",
    "    print('Hoje é dia de traballho')"
   ]
  },
  {
   "cell_type": "code",
   "execution_count": 11,
   "metadata": {},
   "outputs": [
    {
     "name": "stdout",
     "output_type": "stream",
     "text": [
      "Digite o primeiro valor: 10\n",
      "Digite o segundo valor: 10\n",
      "Informe operador - 1 soma, 2 subtração, 3, multiplicação ou 4 divisão: 4\n",
      "A divisão entre valores %s e %s é %s  10 10 1.0\n"
     ]
    }
   ],
   "source": [
    "valor1 = input('Digite o primeiro valor: ')\n",
    "valor2 = input('Digite o segundo valor: ')\n",
    "operador = input('Informe operador - 1 soma, 2 subtração, 3, multiplicação ou 4 divisão: ')\n",
    "if  int(operador) != 1 and int(operador) != 2 and int(operador) != 3 and int(operador) != 4:\n",
    "    print('Meu filho, você leu a instrução? Então, faz o trem direito!!!')\n",
    "if int(operador) == 1:\n",
    "    soma = float(valor1) + float(valor2)\n",
    "    print('A soma entre valores % e % é % ', valor1, valor2, soma)\n",
    "if int(operador) == 2:\n",
    "    subtracao = float(valor1) - float(valor2)\n",
    "    print('A subtracao entre valores %s e %s é %s ', valor1, valor2, subtracao)\n",
    "if int(operador) == 3:\n",
    "    multiplicação = float(valor1) * float(valor2)\n",
    "    print('A subtracao entre valores %s e %s é %s ', valor1, valor2, multiplicação)\n",
    "if int(operador) == 4:\n",
    "    divisao = float(valor1) / float(valor2)\n",
    "    print('A divisão entre valores %s e %s é %s ', valor1, valor2, divisao)"
   ]
  },
  {
   "cell_type": "code",
   "execution_count": null,
   "metadata": {},
   "outputs": [],
   "source": [
    "# Exercício 2 - Crie uma lista de 5 frutas e verifique se a fruta 'Morango' faz parte da lista\n",
    "frutas = ['morango', 'tâmara', 'biscoito']\n",
    "tamanho = len(frutas)\n",
    "i = 0\n",
    "while i < tamanho:\n",
    "    if frutas[i] == 'morango':\n",
    "        print('tem morango')\n",
    "    else:\n",
    "        print(frutas[i])\n",
    "    i = i + 1"
   ]
  },
  {
   "cell_type": "code",
   "execution_count": 21,
   "metadata": {},
   "outputs": [
    {
     "name": "stdout",
     "output_type": "stream",
     "text": [
      "tupla\n",
      "1\n",
      "cara\n",
      "2\n",
      "------------------------\n",
      "tupla\n",
      "2\n",
      "cara\n",
      "4\n",
      "------------------------\n",
      "tupla\n",
      "3\n",
      "cara\n",
      "6\n",
      "------------------------\n",
      "tupla\n",
      "4\n",
      "cara\n",
      "8\n",
      "------------------------\n",
      "lista\n",
      "2\n",
      "4\n",
      "6\n",
      "8\n"
     ]
    }
   ],
   "source": [
    "# Exercício 3 - Crie uma tupla de 4 elementos, multiplique cada elemento da tupla por 2 e guarde os resultados em uma \n",
    "# lista\n",
    "tupla = (1, 2, 3, 4)\n",
    "lista = []\n",
    "tamTupla = len(tupla)\n",
    "i = 0\n",
    "while i < tamTupla:\n",
    "    cara = 0\n",
    "    cara = tupla[i] * 2\n",
    "    print('tupla')\n",
    "    print (tupla[i])\n",
    "    print ('cara')\n",
    "    print (cara)\n",
    "    lista.append(cara)\n",
    "    i = i + 1\n",
    "    print('------------------------')\n",
    "\n",
    "print('lista')\n",
    "for j in lista:\n",
    "    print(j)"
   ]
  },
  {
   "cell_type": "code",
   "execution_count": 23,
   "metadata": {},
   "outputs": [
    {
     "name": "stdout",
     "output_type": "stream",
     "text": [
      "50\n",
      "52\n",
      "54\n",
      "56\n",
      "58\n",
      "60\n",
      "62\n",
      "64\n",
      "66\n",
      "68\n",
      "70\n",
      "72\n",
      "74\n",
      "76\n",
      "78\n",
      "80\n",
      "82\n",
      "84\n",
      "86\n",
      "88\n",
      "90\n",
      "92\n",
      "94\n",
      "96\n",
      "98\n",
      "100\n",
      "102\n",
      "104\n",
      "106\n",
      "108\n",
      "110\n",
      "112\n",
      "114\n",
      "116\n",
      "118\n",
      "120\n",
      "122\n",
      "124\n",
      "126\n",
      "128\n",
      "130\n",
      "132\n",
      "134\n",
      "136\n",
      "138\n",
      "140\n",
      "142\n",
      "144\n",
      "146\n",
      "148\n",
      "150\n"
     ]
    }
   ],
   "source": [
    "# Exercício 4 - Crie uma sequência de números pares entre 100 e 150 e imprima na tela\n",
    "for i in range(50, 151, 2):\n",
    "    print (i)"
   ]
  },
  {
   "cell_type": "code",
   "execution_count": 26,
   "metadata": {},
   "outputs": [
    {
     "name": "stdout",
     "output_type": "stream",
     "text": [
      "35\n",
      "36\n",
      "37\n",
      "38\n",
      "39\n"
     ]
    }
   ],
   "source": [
    "# Exercício 5 - Crie uma variável chamada temperatura e atribua o valor 40. Enquanto temperatura for maior que 35, \n",
    "# imprima as temperaturas na tela\n",
    "temperatura = 40\n",
    "ambiente = 35\n",
    "while temperatura > ambiente:\n",
    "    print (ambiente)\n",
    "    ambiente += 1"
   ]
  },
  {
   "cell_type": "code",
   "execution_count": 28,
   "metadata": {},
   "outputs": [
    {
     "name": "stdout",
     "output_type": "stream",
     "text": [
      "0\n",
      "1\n",
      "2\n",
      "3\n",
      "4\n",
      "5\n",
      "6\n",
      "7\n",
      "8\n",
      "9\n",
      "10\n",
      "11\n",
      "12\n",
      "13\n",
      "14\n",
      "15\n",
      "16\n",
      "17\n",
      "18\n",
      "19\n",
      "20\n",
      "21\n",
      "22\n"
     ]
    }
   ],
   "source": [
    "# Exercício 6 - Crie uma variável chamada contador = 0. Enquanto counter for menor que 100, imprima os valores na tela,\n",
    "# mas quando for encontrado o valor 23, interrompa a execução do programa\n",
    "contador = 0\n",
    "while contador < 100:\n",
    "    print(contador)\n",
    "    contador += 1\n",
    "    if contador == 23:\n",
    "        break"
   ]
  },
  {
   "cell_type": "code",
   "execution_count": 46,
   "metadata": {},
   "outputs": [
    {
     "name": "stdout",
     "output_type": "stream",
     "text": [
      "Tamanho da lista\n",
      "9\n",
      "4\n",
      "6\n",
      "8\n",
      "10\n",
      "12\n",
      "14\n",
      "16\n",
      "18\n",
      "20\n"
     ]
    }
   ],
   "source": [
    "# Exercício 7 - Crie uma lista vazia e uma variável com valor 4. Enquanto o valor da variável for menor ou igual a 20, \n",
    "# adicione à lista, apenas os valores pares e imprima a lista\n",
    "novaLista = []\n",
    "trem = 4\n",
    "while trem <= 20:\n",
    "    novaLista.append(trem)\n",
    "    trem += 2\n",
    "print ('Tamanho da lista')\n",
    "tamDoTrem = len(novaLista)\n",
    "print (tamDoTrem)\n",
    "for i in novaLista:\n",
    "    print(i)"
   ]
  },
  {
   "cell_type": "code",
   "execution_count": 44,
   "metadata": {},
   "outputs": [
    {
     "name": "stdout",
     "output_type": "stream",
     "text": [
      "5\n",
      "7\n",
      "9\n",
      "11\n",
      "13\n",
      "15\n",
      "17\n",
      "19\n",
      "21\n",
      "23\n",
      "25\n",
      "27\n",
      "29\n",
      "31\n",
      "33\n",
      "35\n",
      "37\n",
      "39\n",
      "41\n",
      "43\n",
      "Tamanho da lista:\n",
      "20\n",
      "5\n",
      "7\n",
      "9\n",
      "11\n",
      "13\n",
      "15\n",
      "17\n",
      "19\n",
      "21\n",
      "23\n",
      "25\n",
      "27\n",
      "29\n",
      "31\n",
      "33\n",
      "35\n",
      "37\n",
      "39\n",
      "41\n",
      "43\n"
     ]
    }
   ],
   "source": [
    "# Exercício 8 - Transforme o resultado desta função range em uma lista: range(5, 45, 2)\n",
    "nums = range(5, 45, 2)\n",
    "listExec8 = []\n",
    "for i in nums:\n",
    "    listExec8.append(i)\n",
    "    print(i)\n",
    "print('Tamanho da lista:')\n",
    "tamListaExec8 = len(listExec8)\n",
    "print(tamListaExec8)\n",
    "for k in listExec8:\n",
    "    print(k)"
   ]
  },
  {
   "cell_type": "code",
   "execution_count": 39,
   "metadata": {},
   "outputs": [
    {
     "name": "stdout",
     "output_type": "stream",
     "text": [
      "Qual a temperatura? 30\n",
      "Busque seus casacos.\n"
     ]
    }
   ],
   "source": [
    "# Exercício 9 - Faça a correção dos erros no código abaixo e execute o programa. Dica: são 3 erros.\n",
    "temperatura = float(input('Qual a temperatura? '))\n",
    "if temperatura > 30:\n",
    "    print('Vista roupas leves.')\n",
    "else:\n",
    "    print('Busque seus casacos.')"
   ]
  },
  {
   "cell_type": "code",
   "execution_count": 45,
   "metadata": {},
   "outputs": [
    {
     "name": "stdout",
     "output_type": "stream",
     "text": [
      "6\n"
     ]
    }
   ],
   "source": [
    "# Exercício 10 - Faça um programa que conte quantas vezes a letra \"r\" aparece na frase abaixo. Use um placeholder na \n",
    "# sua instrução de impressão\n",
    "\n",
    "# “É melhor, muito melhor, contentar-se com a realidade; se ela não é tão brilhante como os sonhos, tem pelo menos a \n",
    "# vantagem de existir.” (Machado de Assis)\n",
    "\n",
    "frase = \"É melhor, muito melhor, contentar-se com a realidade; se ela não é tão brilhante como os sonhos, tem pelo menos a vantagem de existir.\" \n",
    "acheiR = 0\n",
    "for i in frase:\n",
    "    if i == 'r':\n",
    "        acheiR += 1\n",
    "print(acheiR)"
   ]
  },
  {
   "cell_type": "markdown",
   "metadata": {},
   "source": [
    "# Fim"
   ]
  },
  {
   "cell_type": "markdown",
   "metadata": {},
   "source": [
    "### Obrigado - Data Science Academy - <a href=http://facebook.com/dsacademy>facebook.com/dsacademybr</a>"
   ]
  }
 ],
 "metadata": {
  "kernelspec": {
   "display_name": "Python 3",
   "language": "python",
   "name": "python3"
  },
  "language_info": {
   "codemirror_mode": {
    "name": "ipython",
    "version": 3
   },
   "file_extension": ".py",
   "mimetype": "text/x-python",
   "name": "python",
   "nbconvert_exporter": "python",
   "pygments_lexer": "ipython3",
   "version": "3.6.5"
  }
 },
 "nbformat": 4,
 "nbformat_minor": 1
}
