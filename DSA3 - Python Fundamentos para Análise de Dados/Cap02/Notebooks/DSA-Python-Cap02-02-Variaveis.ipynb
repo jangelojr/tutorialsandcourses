{
 "cells": [
  {
   "cell_type": "markdown",
   "metadata": {},
   "source": [
    "# <font color='blue'>Data Science Academy - Python Fundamentos - Capítulo 2</font>\n",
    "\n",
    "## Download: http://github.com/dsacademybr"
   ]
  },
  {
   "cell_type": "markdown",
   "metadata": {},
   "source": [
    "## Variáveis e Operadores "
   ]
  },
  {
   "cell_type": "code",
   "execution_count": 2,
   "metadata": {},
   "outputs": [
    {
     "name": "stdout",
     "output_type": "stream",
     "text": [
      "Please think of a number between 0 and 100!101\n",
      "Please think of a number between 0 and 100!-1\n",
      "Please think of a number between 0 and 100!1\n",
      "Is your secret number 50?\n",
      "Enter h to indicate the guess is too high. Enter l to indicate the guess is too low. Enter c to indicate I guessed correctly.c\n",
      "Game over. Your secret number was: 50\n"
     ]
    }
   ],
   "source": [
    "entrada       = -1\n",
    "menor         = 0\n",
    "media         = 0\n",
    "maior         = 100\n",
    "tentativa     = 0\n",
    "minhaResposta = ''\n",
    "\n",
    "while entrada < 0 or entrada > 99:\n",
    "      entrada = int(input(\"Please think of a number between 0 and 100!\"))\n",
    "\n",
    "tentativa = (maior + menor) // 2\n",
    "print('Is your secret number ' + str(tentativa) + '?')\n",
    "\n",
    "minhaResposta = input('Enter h to indicate the guess is too high. Enter l to indicate the guess is too low.' \\\n",
    "                      ' Enter c to indicate I guessed correctly.')\n",
    "\n",
    "while (minhaResposta != 'h' and minhaResposta != 'l' and minhaResposta != 'c'):\n",
    "    print('Sorry, I did not understand your input.')\n",
    "    minhaResposta = input('Enter h to indicate the guess is too high. Enter l to indicate the guess is too low. ' \\\n",
    "                          ' Enter c to indicate I guessed correctly.')\n",
    "\n",
    "media = tentativa\n",
    "    \n",
    "while (minhaResposta != 'c'):\n",
    "    if (minhaResposta != 'h' and minhaResposta != 'l' and minhaResposta != 'c'):\n",
    "        print('Sorry, I did not understand your input.')\n",
    "        minhaResposta = input('Enter h to indicate the guess is too high. Enter l to indicate the guess is too low. ' \\\n",
    "                              ' Enter c to indicate I guessed correctly.')        \n",
    "    \n",
    "    print('Tentativa: ' + str(tentativa))\n",
    "    print('Menor    : ' + str(menor))\n",
    "    print('Média    : ' + str(media))\n",
    "    print('Maior    : ' + str(maior))\n",
    "    \n",
    "    if minhaResposta == 'h':\n",
    "        tentativa = (media + tentativa) // 2\n",
    "        menor = media\n",
    "        print('Is your secret number ' + str(tentativa) + '?')\n",
    "        minhaResposta = input('Enter h to indicate the guess is too high. Enter l to indicate the guess is too low.' \\\n",
    "                      ' Enter c to indicate I guessed correctly.')\n",
    "    elif minhaResposta == 'l':\n",
    "        tentativa = (menor + tentativa) // 2\n",
    "        maior = tentativa\n",
    "        print('Is your secret number ' + str(tentativa) + '?')\n",
    "        minhaResposta = input('Enter h to indicate the guess is too high. Enter l to indicate the guess is too low.' \\\n",
    "                      ' Enter c to indicate I guessed correctly.')\n",
    "    print('Minha resposta é: ' + minhaResposta)\n",
    "        \n",
    "print('Game over. Your secret number was: ' + str(tentativa))"
   ]
  },
  {
   "cell_type": "code",
   "execution_count": null,
   "metadata": {},
   "outputs": [],
   "source": []
  },
  {
   "cell_type": "code",
   "execution_count": null,
   "metadata": {},
   "outputs": [],
   "source": []
  },
  {
   "cell_type": "code",
   "execution_count": null,
   "metadata": {},
   "outputs": [],
   "source": []
  },
  {
   "cell_type": "code",
   "execution_count": null,
   "metadata": {},
   "outputs": [],
   "source": []
  },
  {
   "cell_type": "code",
   "execution_count": null,
   "metadata": {},
   "outputs": [],
   "source": []
  },
  {
   "cell_type": "code",
   "execution_count": null,
   "metadata": {},
   "outputs": [],
   "source": []
  },
  {
   "cell_type": "code",
   "execution_count": null,
   "metadata": {},
   "outputs": [],
   "source": [
    "entrada = 0\n",
    "menor   = 0\n",
    "maior   = 0\n",
    "\n",
    "entrada = int(input(\"Digite um número entre 0 e 99: \"))\n",
    "\n",
    "while entrada < 0 or entrada > 99:\n",
    "    entrada = int(input(\"O número deve ser entre 0 e 99: \"))"
   ]
  },
  {
   "cell_type": "code",
   "execution_count": null,
   "metadata": {},
   "outputs": [],
   "source": [
    "# Atribuindo o valor 1 à variável var_teste\n",
    "var_teste = 1"
   ]
  },
  {
   "cell_type": "code",
   "execution_count": null,
   "metadata": {},
   "outputs": [],
   "source": [
    "greeting = 'Hello!'\n",
    "count = 0\n",
    "\n",
    "for letter in greeting:\n",
    "    count += 1\n",
    "    if count % 2 == 0:\n",
    "        print(letter)\n",
    "    print(letter)\n",
    "\n",
    "print('done')"
   ]
  },
  {
   "cell_type": "code",
   "execution_count": null,
   "metadata": {},
   "outputs": [],
   "source": [
    "school = 'Massachusetts Institute of Technology'\n",
    "numVowels = 0\n",
    "numCons = 0\n",
    "\n",
    "for char in school:\n",
    "    print('O char da vez é -> ' + char)\n",
    "    print('===================================================')\n",
    "    if char == 'a' or char == 'e' or char == 'i' \\\n",
    "       or char == 'o' or char == 'u':\n",
    "        numVowels += 1\n",
    "    elif char == 'o' or char == 'M':\n",
    "        print(char)\n",
    "    else:\n",
    "        numCons -= 1\n",
    "\n",
    "print('numVowels is: ' + str(numVowels))\n",
    "print('numCons is: ' + str(numCons))"
   ]
  },
  {
   "cell_type": "code",
   "execution_count": null,
   "metadata": {},
   "outputs": [],
   "source": [
    "iteration = 0\n",
    "count = 0\n",
    "while iteration < 5:\n",
    "    for letter in \"hello, world\":\n",
    "        count += 1\n",
    "    print(\"Iteration \" + str(iteration) + \"; count is: \" + str(count))\n",
    "    iteration += 1 "
   ]
  },
  {
   "cell_type": "code",
   "execution_count": null,
   "metadata": {},
   "outputs": [],
   "source": [
    "for iteration in range(5):\n",
    "    count = 0\n",
    "    while True:\n",
    "        for letter in \"hello, world\":\n",
    "            count += 1\n",
    "    print(\"Iteration \" + str(iteration) + \"; count is: \" + str(count))"
   ]
  },
  {
   "cell_type": "code",
   "execution_count": null,
   "metadata": {},
   "outputs": [],
   "source": [
    "s = 'azcbobobegghakl'\n",
    "vowels = 0\n",
    "\n",
    "for char in s:\n",
    "    if char == 'a' or char == 'e' or char == 'i' or char == 'o' or char == 'u':\n",
    "        vowels +=1\n",
    "\n",
    "print('Number of vowels: ' + str(vowels))"
   ]
  },
  {
   "cell_type": "code",
   "execution_count": null,
   "metadata": {},
   "outputs": [],
   "source": [
    "s = 'obooioobovobooobobbdboboozoboboozoboboobbobb'\n",
    "numBob    = 0\n",
    "firstB    = 0\n",
    "firstO    = 0\n",
    "secondB   = 0\n",
    "interacao = 0\n",
    "idx       = 0\n",
    "tamS      = 0\n",
    "palavra   = 0\n",
    "\n",
    "tamS = len(s)\n",
    "\n",
    "for char in s:\n",
    "    interacao += 1\n",
    "    if char == 'b' and firstB == 0:\n",
    "        firstB = 1\n",
    "        idx = interacao\n",
    "    if char == 'o' and firstB == 1 and idx < interacao:\n",
    "        firstO = 1\n",
    "        idx = interacao\n",
    "    if char == 'b' and firstB == 1 and firstO == 1 and idx != interacao:\n",
    "        secongB = 1\n",
    "    if firstB == 1 and firstO == 1 and secongB == 1:\n",
    "        numBob +=1\n",
    "        firstO  = 0\n",
    "        secondB = 0\n",
    "        idx = interacao\n",
    "\n",
    "print('Number of times bob occurs is: ' + str(numBob))"
   ]
  },
  {
   "cell_type": "code",
   "execution_count": null,
   "metadata": {},
   "outputs": [],
   "source": [
    "s = 'obobtbobbbxobobobbobobvohobooobbooboo'\n",
    "numBob    = 0\n",
    "interacao = 0\n",
    "tamS      = 0\n",
    "\n",
    "tamS = len(s)\n",
    "\n",
    "while interacao < tamS:\n",
    "    if (interacao + 2) < tamS:\n",
    "        if s[interacao] == 'b' and s[interacao + 1] == 'o' and s[interacao + 2] == 'b':\n",
    "            numBob += 1\n",
    "    interacao += 1\n",
    "        \n",
    "print(numBob)"
   ]
  },
  {
   "cell_type": "code",
   "execution_count": 15,
   "metadata": {},
   "outputs": [
    {
     "name": "stdout",
     "output_type": "stream",
     "text": [
      "lz\n"
     ]
    }
   ],
   "source": [
    "s = 'azcbobobegghakl'\n",
    "\n",
    "i   = 0\n",
    "x   = 0\n",
    "danada = ' '\n",
    "danada2 = ' '\n",
    "letraA = ' '\n",
    "letraP = ' '\n",
    "inicio = 0\n",
    "fim    = 0\n",
    "\n",
    "for char in s:\n",
    "    letraP = s[i + 1]\n",
    "    \n",
    "    if char < letraP:\n",
    "        danada = char + letraP\n",
    "\n",
    "print(danada)"
   ]
  },
  {
   "cell_type": "code",
   "execution_count": null,
   "metadata": {},
   "outputs": [],
   "source": [
    "\n"
   ]
  },
  {
   "cell_type": "code",
   "execution_count": null,
   "metadata": {},
   "outputs": [],
   "source": [
    "s = 'azcbobobegghakl'\n",
    "subString1 = ' '\n",
    "subString2 = ' '\n",
    "interacao  = 0\n",
    "idx        = 0\n",
    "tamS       = 0\n",
    "letra1     = ' '\n",
    "letra2     = ' '\n",
    "\n",
    "for x in s:\n",
    "    while interacao < tamS:\n",
    "        "
   ]
  },
  {
   "cell_type": "code",
   "execution_count": null,
   "metadata": {},
   "outputs": [],
   "source": [
    "varA = 'teste'\n",
    "varB = 'teste2'\n",
    "print(type(varA))\n",
    "if (type(varA) == str) or (type(varB) == str):\n",
    "    print('string involved')\n",
    "elif (len(varA) > len(varB)):\n",
    "    print('bigger')\n",
    "elif (len(varA) == len(varB)):\n",
    "    print('equal')\n",
    "elif (len(varA) < len(varB)):\n",
    "    print('smaller')"
   ]
  },
  {
   "cell_type": "code",
   "execution_count": null,
   "metadata": {},
   "outputs": [],
   "source": [
    "end = 6\n",
    "total = end\n",
    "for next in range(end):\n",
    "    total += next\n",
    "print(total)\n"
   ]
  },
  {
   "cell_type": "code",
   "execution_count": null,
   "metadata": {},
   "outputs": [],
   "source": [
    "# Imprimindo o valor da variável\n",
    "var_teste"
   ]
  },
  {
   "cell_type": "code",
   "execution_count": null,
   "metadata": {},
   "outputs": [],
   "source": [
    "# Imprimindo o valor da variável\n",
    "print(var_teste)"
   ]
  },
  {
   "cell_type": "code",
   "execution_count": null,
   "metadata": {},
   "outputs": [],
   "source": [
    "# Não podemos utilizar uma variável que não foi definida. Veja a mensagem de erro.\n",
    "my_var = \"abondanzieri\""
   ]
  },
  {
   "cell_type": "code",
   "execution_count": null,
   "metadata": {},
   "outputs": [],
   "source": [
    "var_teste = 2"
   ]
  },
  {
   "cell_type": "code",
   "execution_count": null,
   "metadata": {},
   "outputs": [],
   "source": [
    "var_teste"
   ]
  },
  {
   "cell_type": "code",
   "execution_count": null,
   "metadata": {},
   "outputs": [],
   "source": [
    "type(var_teste)"
   ]
  },
  {
   "cell_type": "code",
   "execution_count": null,
   "metadata": {},
   "outputs": [],
   "source": [
    "var_teste = 9.5"
   ]
  },
  {
   "cell_type": "code",
   "execution_count": null,
   "metadata": {},
   "outputs": [],
   "source": [
    "type(var_teste)"
   ]
  },
  {
   "cell_type": "code",
   "execution_count": null,
   "metadata": {},
   "outputs": [],
   "source": [
    "x = 1"
   ]
  },
  {
   "cell_type": "code",
   "execution_count": null,
   "metadata": {},
   "outputs": [],
   "source": [
    "x"
   ]
  },
  {
   "cell_type": "markdown",
   "metadata": {},
   "source": [
    "## Declaração Múltipla"
   ]
  },
  {
   "cell_type": "code",
   "execution_count": null,
   "metadata": {},
   "outputs": [],
   "source": [
    "pessoa1, pessoa2, pessoa3 = \"Maria\", \"José\", \"Tobias\""
   ]
  },
  {
   "cell_type": "code",
   "execution_count": null,
   "metadata": {},
   "outputs": [],
   "source": [
    "pessoa1"
   ]
  },
  {
   "cell_type": "code",
   "execution_count": null,
   "metadata": {},
   "outputs": [],
   "source": [
    "pessoa2"
   ]
  },
  {
   "cell_type": "code",
   "execution_count": null,
   "metadata": {},
   "outputs": [],
   "source": [
    "pessoa3"
   ]
  },
  {
   "cell_type": "code",
   "execution_count": null,
   "metadata": {},
   "outputs": [],
   "source": [
    "fruta1 = fruta2 = fruta3 = \"Laranja\""
   ]
  },
  {
   "cell_type": "code",
   "execution_count": null,
   "metadata": {},
   "outputs": [],
   "source": [
    "fruta1"
   ]
  },
  {
   "cell_type": "code",
   "execution_count": null,
   "metadata": {},
   "outputs": [],
   "source": [
    "fruta2"
   ]
  },
  {
   "cell_type": "code",
   "execution_count": null,
   "metadata": {},
   "outputs": [],
   "source": [
    "# Fique atento!!! Python é case-sensitive. Criamos a variável fruta2, mas não a variável Fruta2.\n",
    "# Letras maiúsculas e minúsculas tem diferença no nome da variável.\n",
    "Fruta2"
   ]
  },
  {
   "cell_type": "markdown",
   "metadata": {},
   "source": [
    "## Pode-se usar letras, números e underline (mas não se pode começar com números)"
   ]
  },
  {
   "cell_type": "code",
   "execution_count": null,
   "metadata": {},
   "outputs": [],
   "source": [
    "x1 = 50"
   ]
  },
  {
   "cell_type": "code",
   "execution_count": null,
   "metadata": {},
   "outputs": [],
   "source": [
    "x1"
   ]
  },
  {
   "cell_type": "code",
   "execution_count": null,
   "metadata": {},
   "outputs": [],
   "source": [
    "# Mensagem de erro, pois o Python não permite nomes de variáveis que iniciem com números\n",
    "1x = 50"
   ]
  },
  {
   "cell_type": "markdown",
   "metadata": {},
   "source": [
    "## Não se pode usar palavras reservadas como nome de variável\n",
    "\n",
    "## False      \n",
    "## class      \n",
    "## finally    \n",
    "## is         \n",
    "## return\n",
    "## None       \n",
    "## continue   \n",
    "## for        \n",
    "## lambda     \n",
    "## try\n",
    "## True       \n",
    "## def        \n",
    "## from       \n",
    "## nonlocal   \n",
    "## while\n",
    "## and        \n",
    "## del        \n",
    "## global     \n",
    "## not        \n",
    "## with\n",
    "## as         \n",
    "## elif       \n",
    "## if         \n",
    "## or         \n",
    "## yield\n",
    "## assert     \n",
    "## else       \n",
    "## import     \n",
    "## pass\n",
    "## break      \n",
    "## except     \n",
    "## in         \n",
    "## raise"
   ]
  },
  {
   "cell_type": "code",
   "execution_count": null,
   "metadata": {},
   "outputs": [],
   "source": [
    "# Não podemos usar palavras reservadas como nome de variável\n",
    "break = 1"
   ]
  },
  {
   "cell_type": "markdown",
   "metadata": {},
   "source": [
    "## Variáveis atribuídas a outras variáveis e ordem dos operadores"
   ]
  },
  {
   "cell_type": "code",
   "execution_count": null,
   "metadata": {},
   "outputs": [],
   "source": [
    "largura = 2"
   ]
  },
  {
   "cell_type": "code",
   "execution_count": null,
   "metadata": {},
   "outputs": [],
   "source": [
    "altura = 4"
   ]
  },
  {
   "cell_type": "code",
   "execution_count": null,
   "metadata": {},
   "outputs": [],
   "source": [
    "area = largura * altura"
   ]
  },
  {
   "cell_type": "code",
   "execution_count": null,
   "metadata": {},
   "outputs": [],
   "source": [
    "area"
   ]
  },
  {
   "cell_type": "code",
   "execution_count": null,
   "metadata": {},
   "outputs": [],
   "source": [
    "perimetro = 2 * largura + 2 * altura"
   ]
  },
  {
   "cell_type": "code",
   "execution_count": null,
   "metadata": {},
   "outputs": [],
   "source": [
    "perimetro"
   ]
  },
  {
   "cell_type": "code",
   "execution_count": null,
   "metadata": {},
   "outputs": [],
   "source": [
    "# A ordem dos operadores é a mesma seguida na Matemática\n",
    "perimetro = 2 * (largura + 2)  * altura"
   ]
  },
  {
   "cell_type": "code",
   "execution_count": null,
   "metadata": {},
   "outputs": [],
   "source": [
    "perimetro"
   ]
  },
  {
   "cell_type": "markdown",
   "metadata": {},
   "source": [
    "## Operações com variáveis"
   ]
  },
  {
   "cell_type": "code",
   "execution_count": null,
   "metadata": {},
   "outputs": [],
   "source": [
    "idade1 = 25"
   ]
  },
  {
   "cell_type": "code",
   "execution_count": null,
   "metadata": {},
   "outputs": [],
   "source": [
    "idade2 = 35"
   ]
  },
  {
   "cell_type": "code",
   "execution_count": null,
   "metadata": {},
   "outputs": [],
   "source": [
    "idade1 + idade2"
   ]
  },
  {
   "cell_type": "code",
   "execution_count": null,
   "metadata": {},
   "outputs": [],
   "source": [
    "idade2 - idade1"
   ]
  },
  {
   "cell_type": "code",
   "execution_count": null,
   "metadata": {},
   "outputs": [],
   "source": [
    "idade2 * idade1"
   ]
  },
  {
   "cell_type": "code",
   "execution_count": null,
   "metadata": {},
   "outputs": [],
   "source": [
    "idade2 / idade1"
   ]
  },
  {
   "cell_type": "code",
   "execution_count": null,
   "metadata": {},
   "outputs": [],
   "source": [
    "idade2 % idade1"
   ]
  },
  {
   "cell_type": "markdown",
   "metadata": {},
   "source": [
    "## Concatenação de Variáveis"
   ]
  },
  {
   "cell_type": "code",
   "execution_count": null,
   "metadata": {},
   "outputs": [],
   "source": [
    "nome = \"Steve\""
   ]
  },
  {
   "cell_type": "code",
   "execution_count": null,
   "metadata": {},
   "outputs": [],
   "source": [
    "sobrenome = \"Jobs\""
   ]
  },
  {
   "cell_type": "code",
   "execution_count": null,
   "metadata": {},
   "outputs": [],
   "source": [
    "fullName = nome + \" \" + sobrenome"
   ]
  },
  {
   "cell_type": "code",
   "execution_count": null,
   "metadata": {},
   "outputs": [],
   "source": [
    "fullName"
   ]
  },
  {
   "cell_type": "markdown",
   "metadata": {},
   "source": [
    "# Fim"
   ]
  },
  {
   "cell_type": "markdown",
   "metadata": {},
   "source": [
    "### Obrigado - Data Science Academy - <a href=http://facebook.com/dsacademy>facebook.com/dsacademybr</a>"
   ]
  }
 ],
 "metadata": {
  "anaconda-cloud": {},
  "kernelspec": {
   "display_name": "Python 3",
   "language": "python",
   "name": "python3"
  },
  "language_info": {
   "codemirror_mode": {
    "name": "ipython",
    "version": 3
   },
   "file_extension": ".py",
   "mimetype": "text/x-python",
   "name": "python",
   "nbconvert_exporter": "python",
   "pygments_lexer": "ipython3",
   "version": "3.6.5"
  }
 },
 "nbformat": 4,
 "nbformat_minor": 1
}
